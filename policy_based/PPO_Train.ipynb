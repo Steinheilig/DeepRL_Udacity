{
 "cells": [
  {
   "cell_type": "markdown",
   "metadata": {},
   "source": [
    "# Proximal Policy Optimization\n",
    "\n",
    "---\n",
    "Code based on Udacity exercise on PPO to solve the Atari-pong game using the pixels of two succeeding frames as an input.<br>\n",
    "Code changed to work with continous actions space following <br>\n",
    "https://youtu.be/BvZvx7ENZBw<br>\n",
    "https://github.com/vwxyzjn/PPO-Implementation-Deep-Dive/blob/master/ppo_continuous_action.py<br>\n",
    "\n",
    "In this notebook, we learned how to use the Unity ML-Agents environment for the second project of the [Deep Reinforcement Learning Nanodegree](https://www.udacity.com/course/deep-reinforcement-learning-nanodegree--nd893) program.\n",
    "\n",
    "### 1. Start the Environment\n",
    "\n",
    "We begin by importing the necessary packages.  If the code cell below returns an error, please revisit the project instructions to double-check that you have installed [Unity ML-Agents](https://github.com/Unity-Technologies/ml-agents/blob/master/docs/Installation.md) and [NumPy](http://www.numpy.org/)."
   ]
  },
  {
   "cell_type": "code",
   "execution_count": 1,
   "metadata": {},
   "outputs": [],
   "source": [
    "from unityagents import UnityEnvironment\n",
    "import numpy as np\n",
    "import torch\n",
    "import torch.nn as nn\n",
    "import torch.nn.functional as F"
   ]
  },
  {
   "cell_type": "markdown",
   "metadata": {},
   "source": [
    "Next, we will start the environment!  **_Before running the code cell below_**, change the `file_name` parameter to match the location of the Unity environment that you downloaded.\n",
    "\n",
    "- **Mac**: `\"path/to/Reacher.app\"`\n",
    "- **Windows** (x86): `\"path/to/Reacher_Windows_x86/Reacher.exe\"`\n",
    "- **Windows** (x86_64): `\"path/to/Reacher_Windows_x86_64/Reacher.exe\"`\n",
    "- **Linux** (x86): `\"path/to/Reacher_Linux/Reacher.x86\"`\n",
    "- **Linux** (x86_64): `\"path/to/Reacher_Linux/Reacher.x86_64\"`\n",
    "- **Linux** (x86, headless): `\"path/to/Reacher_Linux_NoVis/Reacher.x86\"`\n",
    "- **Linux** (x86_64, headless): `\"path/to/Reacher_Linux_NoVis/Reacher.x86_64\"`\n",
    "\n",
    "For instance, if you are using a Mac, then you downloaded `Reacher.app`.  If this file is in the same folder as the notebook, then the line below should appear as follows:\n",
    "```\n",
    "env = UnityEnvironment(file_name=\"Reacher.app\")\n",
    "```"
   ]
  },
  {
   "cell_type": "code",
   "execution_count": 2,
   "metadata": {},
   "outputs": [
    {
     "name": "stderr",
     "output_type": "stream",
     "text": [
      "INFO:unityagents:\n",
      "'Academy' started successfully!\n",
      "Unity Academy name: Academy\n",
      "        Number of Brains: 1\n",
      "        Number of External Brains : 1\n",
      "        Lesson number : 0\n",
      "        Reset Parameters :\n",
      "\t\tgoal_speed -> 1.0\n",
      "\t\tgoal_size -> 5.0\n",
      "Unity brain name: ReacherBrain\n",
      "        Number of Visual Observations (per agent): 0\n",
      "        Vector Observation space type: continuous\n",
      "        Vector Observation space size (per agent): 33\n",
      "        Number of stacked Vector Observation: 1\n",
      "        Vector Action space type: continuous\n",
      "        Vector Action space size (per agent): 4\n",
      "        Vector Action descriptions: , , , \n"
     ]
    }
   ],
   "source": [
    "no_graphics=True\n",
    "#no_graphics=False\n",
    "env = UnityEnvironment(file_name='C:\\EigeneLokaleDaten\\DeepRL\\Value-based-methods\\p2_continuous-control\\Reacher_Windows_x86_64_single_agent\\Reacher.exe', no_graphics=no_graphics)\n",
    "#env = UnityEnvironment(file_name='C:\\EigeneLokaleDaten\\DeepRL\\Value-based-methods\\p2_continuous-control\\Reacher_Windows_x86_64_multiple_agents\\Reacher.exe', no_graphics=no_graphics)"
   ]
  },
  {
   "cell_type": "markdown",
   "metadata": {},
   "source": [
    "Environments contain **_brains_** which are responsible for deciding the actions of their associated agents. Here we check for the first brain available, and set it as the default brain we will be controlling from Python."
   ]
  },
  {
   "cell_type": "code",
   "execution_count": 3,
   "metadata": {},
   "outputs": [],
   "source": [
    "# get the default brain\n",
    "brain_name = env.brain_names[0]\n",
    "brain = env.brains[brain_name]"
   ]
  },
  {
   "cell_type": "markdown",
   "metadata": {},
   "source": [
    "### 2. Examine the State and Action Spaces\n",
    "\n",
    "In this environment, a double-jointed arm can move to target locations. A reward of `+0.1` is provided for each step that the agent's hand is in the goal location. Thus, the goal of your agent is to maintain its position at the target location for as many time steps as possible.\n",
    "\n",
    "The observation space consists of `33` variables corresponding to position, rotation, velocity, and angular velocities of the arm.  Each action is a vector with four numbers, corresponding to torque applicable to two joints.  Every entry in the action vector must be a number between `-1` and `1`.\n",
    "\n",
    "Run the code cell below to print some information about the environment."
   ]
  },
  {
   "cell_type": "code",
   "execution_count": 4,
   "metadata": {},
   "outputs": [
    {
     "name": "stdout",
     "output_type": "stream",
     "text": [
      "Number of agents: 1\n",
      "Size of each action: 4\n",
      "There are 1 agents. Each observes a state with length: 33\n",
      "The state for the first agent looks like: [ 0.00000000e+00 -4.00000000e+00  0.00000000e+00  1.00000000e+00\n",
      " -0.00000000e+00 -0.00000000e+00 -4.37113883e-08  0.00000000e+00\n",
      "  0.00000000e+00  0.00000000e+00  0.00000000e+00  0.00000000e+00\n",
      "  0.00000000e+00  0.00000000e+00 -1.00000000e+01  0.00000000e+00\n",
      "  1.00000000e+00 -0.00000000e+00 -0.00000000e+00 -4.37113883e-08\n",
      "  0.00000000e+00  0.00000000e+00  0.00000000e+00  0.00000000e+00\n",
      "  0.00000000e+00  0.00000000e+00  5.75471878e+00 -1.00000000e+00\n",
      "  5.55726671e+00  0.00000000e+00  1.00000000e+00  0.00000000e+00\n",
      " -1.68164849e-01]\n"
     ]
    }
   ],
   "source": [
    "# reset the environment\n",
    "env_info = env.reset(train_mode=True)[brain_name]\n",
    "\n",
    "# number of agents\n",
    "num_agents = len(env_info.agents)\n",
    "print('Number of agents:', num_agents)\n",
    "\n",
    "# size of each action\n",
    "action_size = brain.vector_action_space_size\n",
    "print('Size of each action:', action_size)\n",
    "\n",
    "# examine the state space \n",
    "states = env_info.vector_observations\n",
    "state_size = states.shape[1]\n",
    "print('There are {} agents. Each observes a state with length: {}'.format(states.shape[0], state_size))\n",
    "print('The state for the first agent looks like:', states[0])"
   ]
  },
  {
   "cell_type": "markdown",
   "metadata": {},
   "source": [
    "## Train a PPO agent - use classroom exercise code to start exploring hyperparameter and network architecture"
   ]
  },
  {
   "cell_type": "code",
   "execution_count": 5,
   "metadata": {},
   "outputs": [
    {
     "name": "stdout",
     "output_type": "stream",
     "text": [
      "using device:  cpu\n"
     ]
    }
   ],
   "source": [
    "device = torch.device(\"cuda:0\" if torch.cuda.is_available() else \"cpu\")\n",
    "print(\"using device: \",device)\n",
    "\n",
    "# for the moment start with one agent alone - no paralell code execution \n",
    "#import PPO_utils\n",
    "#device = PPO_utils.device\n",
    "#print(\"using device: \",device)"
   ]
  },
  {
   "cell_type": "code",
   "execution_count": 6,
   "metadata": {},
   "outputs": [],
   "source": [
    "from torch.distributions.normal import Normal"
   ]
  },
  {
   "cell_type": "code",
   "execution_count": 7,
   "metadata": {},
   "outputs": [
    {
     "name": "stdout",
     "output_type": "stream",
     "text": [
      "Parameter containing:\n",
      "tensor([1.0000e-04, 1.0000e-04, 1.0000e-04, 1.0000e-04], requires_grad=True)\n"
     ]
    }
   ],
   "source": [
    "def hidden_init(layer):\n",
    "    fan_in = layer.weight.data.size()[0]\n",
    "    lim = 1. / np.sqrt(fan_in)\n",
    "    return (-lim, lim)\n",
    "\n",
    "\n",
    "# set up a fully connected (fc) neural net\n",
    "# the output is the action vector (dim=4)\n",
    "class Policy(nn.Module):\n",
    "    def __init__(self):\n",
    "        super(Policy, self).__init__()\n",
    "        self.state_dim = 33\n",
    "        self.action_dim = 4\n",
    "        self.fc1 = nn.Linear(self.state_dim, 64*2*2)   # added size * 2 ...\n",
    "        self.fc2 = nn.Linear(64*2*2, 32*2*2)           # added size * 2 ...\n",
    "        self.fc3 = nn.Linear(32*2*2, 16*1)\n",
    "        self.fc4 = nn.Linear(16*1,self.action_dim)        \n",
    "        self.reset_parameters()\n",
    "        \n",
    "        self.epsilon = 1e-4\n",
    "        \n",
    "        self.actor_logstd = nn.Parameter(torch.zeros(self.action_dim)+self.epsilon) # state-independent stds\n",
    "        print(self.actor_logstd)\n",
    "\n",
    "    def reset_parameters(self):\n",
    "        self.fc1.weight.data.uniform_(*hidden_init(self.fc1))\n",
    "        self.fc2.weight.data.uniform_(*hidden_init(self.fc2))\n",
    "        self.fc3.weight.data.uniform_(*hidden_init(self.fc2))\n",
    "        self.fc4.weight.data.uniform_(-3e-3, 3e-3)\n",
    "            \n",
    "    def actor_mean(self,x):\n",
    "        x = F.relu(self.fc1(x))\n",
    "        x = F.relu(self.fc2(x))\n",
    "        x = F.relu(self.fc3(x))\n",
    "        return torch.tanh(self.fc4(x))        \n",
    "    \n",
    "    def prob_4_action(self,x,action):\n",
    "        action_means = self.actor_mean(x)                   \n",
    "        action_logstd = self.actor_logstd.expand_as(action_means)\n",
    "        action_std = torch.exp(action_logstd)\n",
    "        probs = Normal(action_means,action_std)  # ->  The probability is the probabilty of the actions value under the given normal distribution. \n",
    "        #print(action)\n",
    "        #print(probs.log_prob(action).sum())\n",
    "        #print(probs.entropy().sum())\n",
    "        return action, probs.log_prob(action).sum(), probs.entropy().sum()\n",
    "    \n",
    "    def prob_4_action_sum1(self,x,action):\n",
    "        action_means = self.actor_mean(x)                   \n",
    "        action_logstd = self.actor_logstd.expand_as(action_means)\n",
    "        action_std = torch.exp(action_logstd)\n",
    "        probs = Normal(action_means,action_std)  # ->  The probability is the probabilty of the actions value under the given normal distribution. \n",
    "        #print(action)\n",
    "        #print(probs.log_prob(action).sum())\n",
    "        #print(probs.entropy().sum())\n",
    "        return action, probs.log_prob(action).sum(1), probs.entropy().sum()\n",
    "                \n",
    "    def forward(self, x):  \n",
    "        action_means = self.actor_mean(x)                   \n",
    "        action_logstd = self.actor_logstd.expand_as(action_means)\n",
    "        #action_logstd = self.actor_logstd\n",
    "        action_std = torch.exp(action_logstd)\n",
    "        probs = Normal(action_means,action_std)\n",
    "        action = probs.sample()\n",
    "        # sum: assuming independet action components \n",
    "        return action, probs.log_prob(action).sum(), probs.entropy().sum()   \n",
    "\n",
    "# run your own policy!\n",
    "policy=Policy().to(device)\n",
    "\n",
    "# we use the adam optimizer with learning rate 2e-4\n",
    "# optim.SGD is also possible\n",
    "import torch.optim as optim\n",
    "optimizer = optim.Adam(policy.parameters(), lr=1e-2)"
   ]
  },
  {
   "cell_type": "code",
   "execution_count": 8,
   "metadata": {},
   "outputs": [
    {
     "name": "stdout",
     "output_type": "stream",
     "text": [
      "(tensor([0.5000, 0.5000, 0.5000, 0.5000], dtype=torch.float64), tensor(-4.4945, dtype=torch.float64, grad_fn=<SumBackward0>), tensor(6.0758, grad_fn=<SumBackward0>))\n",
      "(tensor([0.5000, 0.5000, 0.5000, 0.5100], dtype=torch.float64), tensor(-4.4987, dtype=torch.float64, grad_fn=<SumBackward0>), tensor(6.0758, grad_fn=<SumBackward0>))\n"
     ]
    }
   ],
   "source": [
    "policy(torch.from_numpy(states[0]).float().to(device))\n",
    "print(policy.prob_4_action(torch.from_numpy(states[0]).float().to(device),torch.from_numpy(np.array([0.5,0.5,0.5,0.5]))))\n",
    "print(policy.prob_4_action(torch.from_numpy(states[0]).float().to(device),torch.from_numpy(np.array([0.5,0.5,0.5,0.51]))))"
   ]
  },
  {
   "cell_type": "code",
   "execution_count": 9,
   "metadata": {},
   "outputs": [
    {
     "name": "stdout",
     "output_type": "stream",
     "text": [
      "(tensor([0.5000, 0.5000, 0.5000, 0.5000], dtype=torch.float64), tensor(-4.4945, dtype=torch.float64, grad_fn=<SumBackward0>), tensor(6.0758, grad_fn=<SumBackward0>))\n",
      "(tensor([0.5000, 0.5000, 0.5000, 0.5100], dtype=torch.float64), tensor(-4.4987, dtype=torch.float64, grad_fn=<SumBackward0>), tensor(6.0758, grad_fn=<SumBackward0>))\n"
     ]
    }
   ],
   "source": [
    "#print(states)\n",
    "policy(torch.from_numpy(states).float().to(device))\n",
    "print(policy.prob_4_action(torch.from_numpy(states[0]).float().to(device),torch.from_numpy(np.array([0.5,0.5,0.5,0.5]))))\n",
    "print(policy.prob_4_action(torch.from_numpy(states[0]).float().to(device),torch.from_numpy(np.array([0.5,0.5,0.5,0.51]))))"
   ]
  },
  {
   "cell_type": "code",
   "execution_count": 10,
   "metadata": {},
   "outputs": [
    {
     "name": "stdout",
     "output_type": "stream",
     "text": [
      "Parameter containing:\n",
      "tensor([0.1000, 0.1000, 0.1000, 0.1000], requires_grad=True)\n",
      "1\n",
      "[ 0.00000000e+00 -4.00000000e+00  0.00000000e+00  1.00000000e+00\n",
      " -0.00000000e+00 -0.00000000e+00 -4.37113883e-08  0.00000000e+00\n",
      "  0.00000000e+00  0.00000000e+00  0.00000000e+00  0.00000000e+00\n",
      "  0.00000000e+00  0.00000000e+00 -1.00000000e+01  0.00000000e+00\n",
      "  1.00000000e+00 -0.00000000e+00 -0.00000000e+00 -4.37113883e-08\n",
      "  0.00000000e+00  0.00000000e+00  0.00000000e+00  0.00000000e+00\n",
      "  0.00000000e+00  0.00000000e+00 -6.30408478e+00 -1.00000000e+00\n",
      " -4.92529202e+00  0.00000000e+00  1.00000000e+00  0.00000000e+00\n",
      " -5.33014059e-01]\n",
      "[ 0.11947484 -0.4906816   2.5899308   1.6673676 ]\n",
      "tensor(-7.5681)\n",
      "(tensor([ 0.1195, -0.4907,  2.5899,  1.6674]), tensor(-7.5681, grad_fn=<SumBackward0>), tensor(6.0758, grad_fn=<SumBackward0>))\n"
     ]
    }
   ],
   "source": [
    "policy=Policy().to(device)\n",
    "env_info = env.reset(train_mode=True)[brain_name]     # reset the environment    \n",
    "states = env_info.vector_observations                  # get the current state (for each agent)\n",
    "#actions = policy(torch.from_numpy(np.array(states)[0]).float().to(device)).squeeze().cpu().detach().numpy()      \n",
    "print(len(states))\n",
    "print(states[0])\n",
    "\n",
    "with torch.no_grad():\n",
    "    actions_t, prob_logs, prob_entr = policy(torch.from_numpy(states[0]).float().to(device))\n",
    "actions = actions_t.squeeze().cpu().detach().numpy()      \n",
    "print(actions)\n",
    "print(prob_logs)\n",
    "\n",
    "print(policy.prob_4_action(torch.from_numpy(states[0]).float().to(device),torch.from_numpy(actions)))"
   ]
  },
  {
   "cell_type": "code",
   "execution_count": 8,
   "metadata": {},
   "outputs": [
    {
     "name": "stdout",
     "output_type": "stream",
     "text": [
      "load state scaling\n"
     ]
    }
   ],
   "source": [
    "do_scaling = True\n",
    "if do_scaling:\n",
    "    print('load state scaling')\n",
    "    data = np.load('state_scale.npz')\n",
    "    scale = data['scale_int']\n",
    "else:\n",
    "    scale = np.ones(33,)\n",
    "\n",
    "# collect trajectory for a single agent\n",
    "def collect_trajectory(env, policy, tmax=1000, num_agents = 1):    \n",
    "    debug_ = False \n",
    "    action_size = 4\n",
    "    \n",
    "    #initialize returning lists and start the game!\n",
    "    state_list=[]\n",
    "    reward_list=[]\n",
    "    prob_list=[]\n",
    "    actions_list=[]\n",
    "\n",
    "    env_info = env.reset(train_mode=True)[brain_name]     # reset the environment    \n",
    "    states = env_info.vector_observations                  # get the current state (for each agent)\n",
    "    states = states/scale\n",
    "    scores = np.zeros(num_agents)                          # initialize the score (for each agent)\n",
    "    \n",
    "    for jj in range(1):\n",
    "        actions = np.random.randn(num_agents, action_size) # select an action (for each agent)\n",
    "        actions = np.clip(actions, -1, 1)                  # all actions between -1 and 1\n",
    "        # print(actions.shape)\n",
    "        env_info = env.step(actions)[brain_name]           # send all actions to tne environment\n",
    "\n",
    "    if debug_:\n",
    "        print('ACTION:',actions)\n",
    "    next_states = env_info.vector_observations         # get next state (for each agent)   \n",
    "    next_states = next_states/scale\n",
    "\n",
    "    if debug_:\n",
    "        print('START STATES:')\n",
    "        print(states)\n",
    "        print(type(states))\n",
    "        print(states.shape)\n",
    "        #print(np.array(states)[0])\n",
    "        \n",
    "    with torch.no_grad():\n",
    "        actions_t, prob_logs, prob_entr = policy(torch.from_numpy(states).float().to(device))\n",
    "    actions = actions_t.squeeze().cpu().detach().numpy()    \n",
    "    #actions = np.clip(actions, -1, 1)                  # all actions between -1 and 1\n",
    "    \n",
    "    ##actions = policy(torch.from_numpy(states).float().to(device)).squeeze().cpu().detach().numpy()\n",
    "                     \n",
    "    #actions = policy(torch.from_numpy(states).float().to(device)).squeeze().cpu().detach().numpy()        \n",
    "    if debug_:\n",
    "        print('###')\n",
    "        print('ACTION after Policy:',actions)\n",
    "        print('###')\n",
    "                \n",
    "    for t in range(tmax):   \n",
    "        # action will only be used as the pi_old\n",
    "        # no gradient propagation is needed\n",
    "        # so we move it to the cpu\n",
    "        \n",
    "        with torch.no_grad():\n",
    "            actions_t, prob_logs, prob_entr = policy(torch.from_numpy(states).float().to(device))\n",
    "        actions = actions_t.squeeze().cpu().detach().numpy()    \n",
    "        #actions = np.clip(actions, -1, 1)                  # all actions between -1 and 1\n",
    "        ## actions = policy(torch.from_numpy(states).float().to(device)).squeeze().cpu().detach().numpy()                    \n",
    "        \n",
    "        # advance the game \n",
    "        env_info = env.step(actions)[brain_name]           # send all actions to tne environment\n",
    "        next_states = env_info.vector_observations         # get next state (for each agent)\n",
    "        next_states = next_states/scale\n",
    "        rewards = env_info.rewards                         # get reward (for each agent)\n",
    "        dones = env_info.local_done                        # see if episode finished\n",
    "        scores += env_info.rewards                         # update the score (for each agent)\n",
    "        states = next_states                               # roll over states to next time step        \n",
    "        \n",
    "        # store the result\n",
    "        prob_list.append(prob_logs)\n",
    "        state_list.append(torch.from_numpy(states).float().to(device))\n",
    "        reward_list.append(rewards)\n",
    "        actions_list.append(actions)\n",
    "        \n",
    "        # stop if any of the trajectories is done\n",
    "        # we want all the lists to be retangular\n",
    "        if np.any(dones):                                  # exit loop if episode finished\n",
    "            break\n",
    "\n",
    "\n",
    "    # return pi_theta, states, actions, rewards, probability\n",
    "    return prob_list, state_list, \\\n",
    "        actions_list, reward_list"
   ]
  },
  {
   "cell_type": "code",
   "execution_count": 12,
   "metadata": {},
   "outputs": [
    {
     "name": "stdout",
     "output_type": "stream",
     "text": [
      "(1, 4)\n",
      "(1, 4)\n"
     ]
    }
   ],
   "source": [
    "actions = np.random.randn(num_agents, action_size)\n",
    "print(actions.shape)\n",
    "actions = np.clip(actions, -1, 1)                  # all actions between -1 and 1\n",
    "print(actions.shape)\n",
    "env_info = env.step(actions)[brain_name]           # send all actions to tne environment"
   ]
  },
  {
   "cell_type": "code",
   "execution_count": 13,
   "metadata": {},
   "outputs": [
    {
     "name": "stdout",
     "output_type": "stream",
     "text": [
      "[[0.0], [0.0], [0.0], [0.0], [0.0], [0.0], [0.0], [0.0], [0.0], [0.0], [0.0], [0.0], [0.0], [0.0], [0.0], [0.0], [0.0], [0.0], [0.0], [0.0], [0.0], [0.0], [0.0], [0.0], [0.0], [0.0], [0.0], [0.0], [0.0], [0.0], [0.0], [0.0], [0.0], [0.0], [0.0], [0.0], [0.0], [0.0], [0.0], [0.0], [0.0], [0.0], [0.0], [0.0], [0.0], [0.0], [0.0], [0.0], [0.0], [0.0], [0.0], [0.0], [0.0], [0.0], [0.0], [0.0], [0.0], [0.0], [0.0], [0.0], [0.0], [0.0], [0.0], [0.0], [0.0], [0.0], [0.0], [0.0], [0.0], [0.0], [0.0], [0.0], [0.0], [0.0], [0.0], [0.0], [0.0], [0.0], [0.0], [0.0], [0.0], [0.0], [0.0], [0.0], [0.0], [0.0], [0.0], [0.0], [0.0], [0.0], [0.0], [0.0], [0.0], [0.0], [0.0], [0.0], [0.0], [0.0], [0.0], [0.0]]\n",
      "[tensor(-4.7066), tensor(-8.4354), tensor(-7.1477), tensor(-8.5732), tensor(-8.0392), tensor(-5.0285), tensor(-8.3316), tensor(-7.7601), tensor(-5.0781), tensor(-5.5658), tensor(-7.4695), tensor(-10.0484), tensor(-9.6006), tensor(-5.1460), tensor(-6.3476), tensor(-4.4493), tensor(-4.3913), tensor(-6.6962), tensor(-6.5949), tensor(-7.7754), tensor(-5.1666), tensor(-4.8138), tensor(-6.9764), tensor(-6.9786), tensor(-5.8766), tensor(-5.6941), tensor(-8.5212), tensor(-6.1223), tensor(-6.3527), tensor(-4.9867), tensor(-6.2459), tensor(-5.2385), tensor(-6.5692), tensor(-6.5731), tensor(-4.8861), tensor(-4.4168), tensor(-5.7916), tensor(-5.0560), tensor(-7.8307), tensor(-6.0840), tensor(-5.7264), tensor(-4.5371), tensor(-4.9321), tensor(-5.4705), tensor(-5.6778), tensor(-10.7892), tensor(-5.0625), tensor(-5.3977), tensor(-4.8976), tensor(-7.1116), tensor(-4.5793), tensor(-7.3065), tensor(-7.3745), tensor(-5.3925), tensor(-7.2348), tensor(-7.3344), tensor(-5.2968), tensor(-6.1587), tensor(-6.2581), tensor(-8.0726), tensor(-6.3209), tensor(-4.5197), tensor(-5.8434), tensor(-6.6831), tensor(-5.7641), tensor(-8.7604), tensor(-6.2155), tensor(-5.3786), tensor(-5.1075), tensor(-7.8789), tensor(-6.0248), tensor(-5.0208), tensor(-4.2473), tensor(-6.2399), tensor(-5.9396), tensor(-5.4184), tensor(-5.9867), tensor(-4.7320), tensor(-5.5034), tensor(-5.6920), tensor(-7.0155), tensor(-7.5668), tensor(-6.2243), tensor(-5.2668), tensor(-6.1519), tensor(-6.8091), tensor(-5.7863), tensor(-4.6843), tensor(-7.5800), tensor(-5.3764), tensor(-8.9221), tensor(-6.2868), tensor(-4.8191), tensor(-7.3986), tensor(-6.9471), tensor(-7.6384), tensor(-7.1782), tensor(-7.3316), tensor(-5.4146), tensor(-5.5630)]\n",
      "[array([-0.08971647,  1.1903222 ,  0.52427447, -0.04129452], dtype=float32), array([-2.692689  ,  0.28242368,  1.5959461 ,  1.067161  ], dtype=float32), array([ 2.633191  , -0.34646192,  0.78468275, -0.4856424 ], dtype=float32), array([ 1.2926276 ,  2.9146435 ,  1.1040081 , -0.39091635], dtype=float32), array([ 2.1006129 , -2.2246037 , -0.471091  ,  0.44929212], dtype=float32), array([ 0.85322016, -0.468054  ,  0.31400216,  1.3527329 ], dtype=float32), array([ 2.9370508 , -1.3240569 ,  0.19734126, -0.44188645], dtype=float32), array([ 1.3697566, -1.0025811, -2.22621  ,  0.930823 ], dtype=float32), array([-0.75202173, -0.07176253,  1.4388725 , -0.1473118 ], dtype=float32), array([-1.1043826, -0.2815737,  1.2320057,  1.1407548], dtype=float32), array([-1.5734603, -2.1472723,  1.051044 ,  0.1622121], dtype=float32), array([ 0.0420105,  2.5033212,  0.8185215, -2.6841125], dtype=float32), array([-3.16773   ,  1.7143748 , -0.21268238,  0.3329478 ], dtype=float32), array([ 1.3283756 ,  0.41710988, -0.714792  ,  0.5395778 ], dtype=float32), array([ 1.7678618 , -0.8297515 , -1.0820884 , -0.49539906], dtype=float32), array([ 0.2064726 ,  0.81019145, -0.19601591, -0.26570418], dtype=float32), array([0.35566923, 0.4141614 , 0.80333346, 0.49749917], dtype=float32), array([-2.4347131 ,  0.34169605,  0.15115678,  0.04551557], dtype=float32), array([-1.9371059 ,  1.4176406 ,  0.36730188, -0.2312103 ], dtype=float32), array([-2.1820486 , -0.81429225, -0.42766464,  1.8532536 ], dtype=float32), array([ 0.17426255, -0.30684018, -0.34368864, -1.3627614 ], dtype=float32), array([ 0.15013053, -0.22577107,  0.3455647 ,  1.452645  ], dtype=float32), array([ 1.3027778,  0.674814 , -1.2221621,  1.9655107], dtype=float32), array([-1.163464 , -1.2926226,  0.7631767, -1.6969674], dtype=float32), array([1.4212373 , 1.2994772 , 0.17755221, 1.1445374 ], dtype=float32), array([-1.0135974 , -1.5520464 , -0.06072351, -0.30396056], dtype=float32), array([-1.3091289, -2.108376 , -0.9361732,  1.934451 ], dtype=float32), array([-1.8215795 ,  0.06985015,  1.2252765 ,  0.64684737], dtype=float32), array([ 0.6879413 ,  0.21026441, -1.9529201 , -0.7066808 ], dtype=float32), array([ 0.16629417, -1.3124952 , -0.48065725,  0.07487289], dtype=float32), array([0.6335282 , 1.2982262 , 0.31495577, 1.986597  ], dtype=float32), array([ 0.58040726, -0.7376372 ,  0.54374176, -1.2011056 ], dtype=float32), array([ 0.6160291 ,  0.63779205, -1.8065219 ,  1.4215094 ], dtype=float32), array([-1.9215223 , -0.63547367, -1.1422733 ,  0.18415073], dtype=float32), array([-0.24804614, -1.2193259 ,  0.1522094 , -0.39817873], dtype=float32), array([ 0.38708812, -0.6229868 ,  0.39824852, -0.33808234], dtype=float32), array([ 0.25997385,  0.12837707, -1.7579342 ,  0.8684069 ], dtype=float32), array([ 1.0315586 , -1.1365714 ,  0.47227067,  0.1980672 ], dtype=float32), array([ 2.194804  , -0.08106301, -1.9350157 ,  0.7190601 ], dtype=float32), array([-0.29070646, -1.1743846 , -1.648887  ,  0.43256223], dtype=float32), array([ 0.48989594,  0.9731673 , -0.31145483, -1.511177  ], dtype=float32), array([-0.817842  ,  0.03394881,  0.21124703,  0.7239479 ], dtype=float32), array([-0.24456814, -0.4421025 ,  1.3234596 , -0.46644145], dtype=float32), array([0.8067762 , 0.89365166, 1.6054256 , 0.25936598], dtype=float32), array([ 1.3222548 , -0.2680925 , -0.20402318, -1.3106906 ], dtype=float32), array([-3.5125523,  0.8268569,  0.3617655,  1.8433511], dtype=float32), array([ 0.57345456, -0.9565115 ,  0.47699755,  1.1874151 ], dtype=float32), array([-1.327263  , -0.5788043 ,  0.9451775 , -0.35149002], dtype=float32), array([-0.8938462 , -0.00824284,  0.17749068, -0.8807708 ], dtype=float32), array([ 2.418446 ,  0.9619423, -0.2696783,  1.0939937], dtype=float32), array([-0.21777809,  0.7778318 ,  0.9099082 ,  0.03751174], dtype=float32), array([1.3045402, 1.4500105, 1.2405504, 1.9366411], dtype=float32), array([-0.43212622, -2.3872573 ,  1.490254  ,  0.5218764 ], dtype=float32), array([ 0.72620666, -1.5464531 ,  0.25450677,  0.68228203], dtype=float32), array([-1.5145073 ,  1.5054814 , -0.70050097,  1.6713506 ], dtype=float32), array([-0.8973467, -0.7756245,  1.3476889,  2.3708825], dtype=float32), array([ 0.6131411 , -0.8805795 ,  0.63017243, -1.121721  ], dtype=float32), array([ 0.3762363,  1.2670431,  1.271808 , -1.3365991], dtype=float32), array([-0.76959133,  0.28646645,  2.2559578 ,  0.4915986 ], dtype=float32), array([ 0.6019772 , -0.8258806 ,  0.65370554, -2.761387  ], dtype=float32), array([ 0.2072387 , -0.50886965,  0.08592277,  2.4255595 ], dtype=float32), array([ 0.54947853,  0.29563257,  0.89693284, -0.32801458], dtype=float32), array([ 0.9461004 ,  0.13065636, -1.4338908 ,  1.174137  ], dtype=float32), array([-1.1297947, -0.2049213,  0.770985 ,  2.267708 ], dtype=float32), array([-3.963843e-03,  2.012528e+00,  5.759804e-01, -6.840974e-04],\n",
      "      dtype=float32), array([ 2.5495465,  1.3118374, -1.3696762,  1.3271335], dtype=float32), array([-0.45262283, -0.72796494,  2.2172136 ,  0.45123076], dtype=float32), array([ 0.44238427, -0.67994636, -0.83922815, -1.0968374 ], dtype=float32), array([-0.04399227,  0.38481987, -0.65567756, -1.165453  ], dtype=float32), array([1.7457181, 1.3798823, 1.5382636, 1.8125787], dtype=float32), array([-1.0595357, -1.2576377, -0.8724495,  1.025579 ], dtype=float32), array([ 0.71344805,  0.77545923, -1.002129  ,  0.31624258], dtype=float32), array([ 0.40362737, -0.46001688,  0.06307418, -0.08981845], dtype=float32), array([ 0.9631645, -1.3894894, -0.7817903,  1.4182773], dtype=float32), array([-0.29467228, -1.3750054 , -0.69101334,  1.4655974 ], dtype=float32), array([ 0.7079596 , -0.29439002,  1.7351404 , -0.35079616], dtype=float32), array([1.4710306 , 1.1573939 , 0.23921104, 1.3559397 ], dtype=float32), array([-0.5161409 , -0.19899197,  0.39169246, -0.91569823], dtype=float32), array([-1.5251969,  0.6734566, -0.5510012,  0.3288357], dtype=float32), array([ 0.33709237,  1.4779532 , -0.31189036,  1.410925  ], dtype=float32), array([ 1.999086  , -0.17422463,  1.0313897 , -1.4767151 ], dtype=float32), array([2.6222262 , 1.130692  , 0.46280396, 1.0106044 ], dtype=float32), array([-1.4175736 , -0.06422948, -1.1098164 ,  1.3477366 ], dtype=float32), array([-1.2513528 ,  0.02677768, -0.88362026,  0.44600084], dtype=float32), array([ 2.0975242 ,  0.3416667 ,  1.0732752 , -0.01875009], dtype=float32), array([ 0.26172152,  0.07397922, -2.224183  ,  1.157115  ], dtype=float32), array([-0.727625  , -0.32731858, -0.00982279, -1.6859303 ], dtype=float32), array([ 0.51148057,  0.8326028 , -0.03194948,  0.94368505], dtype=float32), array([ 1.4064301,  1.7829876,  1.5668406, -1.1584789], dtype=float32), array([-0.5052205 ,  1.4983586 , -0.01811059, -0.66686434], dtype=float32), array([-1.8299904,  1.3063506, -2.0366952, -1.1961554], dtype=float32), array([-0.675604  ,  1.5042595 , -0.42899087, -1.3790573 ], dtype=float32), array([ 0.38896543,  0.49759525,  0.22619072, -1.0710816 ], dtype=float32), array([-1.0581005, -2.2881374,  0.8846007, -0.7950466], dtype=float32), array([ 0.9124017 , -0.3388819 , -0.64529485,  2.5063415 ], dtype=float32), array([-1.3794773 ,  1.1046431 ,  0.64249617,  2.4327562 ], dtype=float32), array([-1.4582422 ,  2.1275194 ,  0.69926727, -0.5871545 ], dtype=float32), array([ 1.2869910e+00, -2.0206310e-03, -2.2269673e+00, -7.6278937e-01],\n",
      "      dtype=float32), array([-0.814652 ,  0.4813795, -0.6220872,  1.450788 ], dtype=float32), array([-0.7593631 , -0.528749  ,  0.03138772,  1.7667575 ], dtype=float32)]\n"
     ]
    },
    {
     "name": "stdout",
     "output_type": "stream",
     "text": [
      "[[0.0], [0.0], [0.0], [0.0], [0.0], [0.0], [0.0], [0.0], [0.0], [0.0], [0.0], [0.0], [0.0], [0.0], [0.0], [0.0], [0.0], [0.0], [0.0], [0.0], [0.0], [0.0], [0.0], [0.0], [0.0], [0.0], [0.0], [0.0], [0.0], [0.0], [0.0], [0.0], [0.0], [0.0], [0.0], [0.0], [0.0], [0.0], [0.0], [0.0], [0.0], [0.0], [0.0], [0.0], [0.0], [0.0], [0.0], [0.0], [0.0], [0.0], [0.0], [0.0], [0.0], [0.0], [0.0], [0.0], [0.0], [0.0], [0.0], [0.0], [0.0], [0.0], [0.0], [0.0], [0.0], [0.0], [0.0], [0.0], [0.0], [0.0], [0.0], [0.0], [0.0], [0.0], [0.0], [0.0], [0.0], [0.0], [0.0], [0.0], [0.0], [0.0], [0.0], [0.0], [0.0], [0.0], [0.0], [0.0], [0.0], [0.0], [0.0], [0.0], [0.0], [0.0], [0.0], [0.0], [0.0], [0.0], [0.0], [0.0]]\n",
      "[tensor(-7.1636), tensor(-6.8154), tensor(-4.6674), tensor(-8.4697), tensor(-4.6840), tensor(-6.3230), tensor(-4.5235), tensor(-5.8455), tensor(-5.4868), tensor(-6.0027), tensor(-6.9539), tensor(-5.3057), tensor(-5.3391), tensor(-5.3669), tensor(-5.6488), tensor(-6.3372), tensor(-8.5852), tensor(-6.3804), tensor(-5.8542), tensor(-8.9202), tensor(-5.8482), tensor(-5.7579), tensor(-8.1176), tensor(-4.8113), tensor(-6.4675), tensor(-5.0331), tensor(-4.5681), tensor(-7.8028), tensor(-5.4152), tensor(-5.5658), tensor(-5.6993), tensor(-10.0004), tensor(-5.7620), tensor(-5.2976), tensor(-6.7138), tensor(-4.4789), tensor(-5.3305), tensor(-4.5085), tensor(-7.3350), tensor(-5.6916), tensor(-5.5924), tensor(-7.9816), tensor(-4.2647), tensor(-7.3062), tensor(-4.3980), tensor(-8.3288), tensor(-7.2774), tensor(-4.6503), tensor(-5.3081), tensor(-5.0801), tensor(-6.8707), tensor(-5.4694), tensor(-8.9388), tensor(-5.5992), tensor(-7.5341), tensor(-6.8465), tensor(-6.0874), tensor(-5.1583), tensor(-5.0263), tensor(-5.4898), tensor(-5.1039), tensor(-4.2771), tensor(-5.3165), tensor(-6.8292), tensor(-7.6243), tensor(-5.8770), tensor(-8.5272), tensor(-5.7001), tensor(-4.4546), tensor(-5.4850), tensor(-5.2357), tensor(-5.6552), tensor(-6.5100), tensor(-4.6545), tensor(-4.6167), tensor(-5.8217), tensor(-5.2843), tensor(-8.4552), tensor(-6.8192), tensor(-5.5817), tensor(-4.3628), tensor(-5.0914), tensor(-7.6004), tensor(-4.5992), tensor(-5.7439), tensor(-4.3503), tensor(-8.2789), tensor(-6.1936), tensor(-5.0652), tensor(-4.9346), tensor(-6.9014), tensor(-4.5603), tensor(-8.1014), tensor(-8.8889), tensor(-4.3983), tensor(-7.4011), tensor(-5.8968), tensor(-6.4044), tensor(-6.6604), tensor(-4.6535)]\n",
      "[array([-0.72591287, -1.9626601 , -0.812083  , -1.2584598 ], dtype=float32), array([ 0.3275226,  1.8759327, -0.880697 ,  1.6281011], dtype=float32), array([-0.6076388 ,  0.8007743 ,  0.27514547,  0.7662442 ], dtype=float32), array([-2.8105314 , -1.0289739 , -0.9796136 ,  0.07353641], dtype=float32), array([ 1.2147872 , -0.04766115,  0.44192126, -0.15229192], dtype=float32), array([ 0.00766599,  1.8842665 ,  0.9520973 , -1.0387384 ], dtype=float32), array([1.0359613 , 0.12753227, 0.5495229 , 0.15729105], dtype=float32), array([-1.6335875 , -0.08307549, -0.3699296 , -0.9073447 ], dtype=float32), array([ 1.732992  ,  0.06961276, -0.25600785, -0.5764254 ], dtype=float32), array([-0.121714  ,  0.7298475 ,  2.0141883 ,  0.99225265], dtype=float32), array([ 0.78389364, -2.1710627 , -0.79628015, -0.7249217 ], dtype=float32), array([ 0.09351122, -1.1533002 ,  1.0260869 , -0.75520545], dtype=float32), array([ 0.4802193 , -1.4792057 ,  0.93292093,  0.27481917], dtype=float32), array([ 0.971194  , -0.85443056,  1.3602285 , -0.1509735 ], dtype=float32), array([-1.6298602 ,  0.9189013 , -0.11742593,  0.44412005], dtype=float32), array([ 0.40796468, -0.972761  ,  2.0777173 , -0.6707661 ], dtype=float32), array([ 1.2211372, -1.0022465,  2.4307897,  2.001043 ], dtype=float32), array([-1.1953583 ,  0.46255347,  1.652095  , -1.1023712 ], dtype=float32), array([-1.0027359 , -1.3589258 ,  0.31900585,  1.2538733 ], dtype=float32), array([-0.45533222, -3.2909336 , -0.35071462, -0.34257242], dtype=float32), array([ 0.22961959,  0.26904497, -1.9066463 , -0.00970656], dtype=float32), array([-1.5075458,  1.1561673,  0.5832062,  0.5521625], dtype=float32), array([1.4482565 , 0.68182117, 1.920098  , 2.2569394 ], dtype=float32), array([ 1.0607805 ,  0.43777588,  0.58930856, -0.53115356], dtype=float32), array([-0.8401233, -1.5263578,  0.4564665,  1.7254411], dtype=float32), array([-0.7809064 ,  1.0745019 , -0.52877754,  0.41063333], dtype=float32), array([ 0.03693744, -0.13124448, -0.11719868, -0.8979307 ], dtype=float32), array([-2.1268797 , -1.2517368 ,  0.57999253, -1.4027086 ], dtype=float32), array([ 0.2152415 ,  0.26255047,  0.2544249 , -1.6334445 ], dtype=float32), array([ 1.3519467 , -1.0628716 , -0.7380872 ,  0.02275121], dtype=float32), array([-0.80835116,  0.10892896, -0.62984514, -1.4523548 ], dtype=float32), array([ 0.3859461,  1.9167897, -2.9400034, -0.984658 ], dtype=float32), array([ 0.5799538, -0.026707 , -1.6352973,  0.9750688], dtype=float32), array([1.4289052, 0.8944762, 0.7608702, 0.3420365], dtype=float32), array([-1.6388985 , -0.3320427 , -0.10171498, -1.6675099 ], dtype=float32), array([0.74128115, 0.4927547 , 0.58615106, 0.524857  ], dtype=float32), array([-1.1208065 , -0.35352585, -0.97303987,  0.6291    ], dtype=float32), array([-0.50367534,  0.8683369 ,  0.03635745,  0.02905904], dtype=float32), array([ 0.3090481 , -2.7199934 , -0.03591141, -0.38145715], dtype=float32), array([-0.53587806,  0.35715517,  0.7197295 , -1.6210544 ], dtype=float32), array([-1.5191718 ,  1.0092337 ,  0.6129227 ,  0.15680063], dtype=float32), array([-1.6607845 ,  2.024764  , -0.35486767,  1.674034  ], dtype=float32), array([-0.5175119 ,  0.18802665,  0.42107946,  0.03618898], dtype=float32), array([ 2.0840857, -0.812938 , -1.0132412, -1.1833781], dtype=float32), array([-0.12610586, -0.37750122,  0.09640786, -0.6057099 ], dtype=float32), array([ 0.19880804,  0.49550587, -2.6529934 , -1.3681065 ], dtype=float32), array([-1.096579  , -0.74754727,  2.5378036 , -0.2093025 ], dtype=float32), array([-0.10607613,  0.24286562,  0.6614691 ,  1.1840625 ], dtype=float32), array([-0.03495369,  1.1015846 , -0.9776119 ,  0.9210603 ], dtype=float32), array([0.41995332, 1.2570556 , 0.9203809 , 0.64612883], dtype=float32), array([1.1883789, 0.3231654, 2.1908693, 1.3066738], dtype=float32), array([ 0.7633255 , -0.91304004,  1.2257671 ,  1.0859835 ], dtype=float32), array([-2.323893  , -2.4040647 ,  0.5697524 ,  0.22618052], dtype=float32), array([ 0.08536211, -1.2629395 , -1.2258364 ,  0.53854764], dtype=float32), array([-0.4719053 ,  2.0473156 , -0.12929462,  2.1575058 ], dtype=float32), array([0.22560567, 0.9829205 , 2.4584417 , 0.86692804], dtype=float32), array([-0.5429175 ,  2.135417  ,  0.10254627,  0.4942882 ], dtype=float32), array([ 1.3807267 , -0.04531184, -0.63744545,  0.7122166 ], dtype=float32), array([-0.6522659 ,  1.0125321 ,  1.0105155 ,  0.46014702], dtype=float32), array([-0.6628471 ,  0.35256898,  1.1967939 , -1.1557906 ], dtype=float32), array([-0.30219388, -1.4733261 ,  0.05250666,  0.4471155 ], dtype=float32), array([-0.15235622,  0.58348536, -0.21660422,  0.07771662], dtype=float32), array([ 0.8142029, -0.883261 ,  0.7887146,  1.2620864], dtype=float32), array([-0.08751404, -0.64432865,  2.554974  , -0.51804113], dtype=float32), array([-0.36427698,  1.3823531 ,  2.7054312 ,  0.502568  ], dtype=float32), array([ 0.41095686, -0.96178335,  1.9402245 , -0.13910955], dtype=float32), array([ 2.9413939, -0.6343151,  0.7051656,  1.5296199], dtype=float32), array([0.5545966 , 0.41534162, 1.4058062 , 1.5707709 ], dtype=float32), array([ 0.33035558, -0.05056693,  1.059908  ,  0.00222257], dtype=float32), array([ 0.4948058 , -1.5002639 ,  0.14021821,  1.1062698 ], dtype=float32), array([-0.05100028,  0.45833555,  0.13966209, -1.4718657 ], dtype=float32), array([ 0.5493189, -0.4826434, -1.1765208, -1.1160332], dtype=float32), array([ 0.99938333, -0.03042539,  1.4650075 ,  1.9837599 ], dtype=float32), array([ 0.09688704,  0.0937213 , -0.8242724 , -0.52810735], dtype=float32), array([ 0.13218005, -0.01092459,  1.2045213 , -0.29634023], dtype=float32), array([-0.9591692 ,  1.6573707 , -0.24057914,  0.79419076], dtype=float32), array([-0.33547908,  0.936334  ,  1.5525463 ,  0.17772801], dtype=float32), array([-1.3407624 , -1.3971671 ,  0.32363367,  2.7243662 ], dtype=float32), array([-1.0303905 ,  0.95731753, -0.58646786, -1.8698344 ], dtype=float32), array([-0.3004417, -1.128064 ,  0.0088063,  1.6244593], dtype=float32), array([-0.38245714,  0.3010075 , -0.17555705,  0.7148082 ], dtype=float32), array([ 0.8013282 ,  1.3149475 ,  0.10756776, -0.40569332], dtype=float32), array([-1.9485085, -1.0129758,  1.6139354,  1.2811227], dtype=float32), array([-0.6302722 ,  0.24662016, -0.7049011 ,  0.24549496], dtype=float32), array([ 1.121719  ,  0.47946244,  0.3459725 , -1.5033023 ], dtype=float32), array([-0.04245343,  0.51361114, -0.26871133, -0.3509611 ], dtype=float32), array([-1.9748476 ,  2.3835497 , -0.5243233 ,  0.46497363], dtype=float32), array([-0.28677738, -0.7359054 ,  0.12948292,  2.2616518 ], dtype=float32), array([-0.75753427,  0.4769276 ,  1.0599867 ,  0.9883715 ], dtype=float32), array([-0.13571927, -1.2151254 , -0.48122412,  0.4610293 ], dtype=float32), array([-0.06835173, -1.3514146 , -1.4011687 , -1.4472935 ], dtype=float32), array([-0.90908086,  0.35764807, -0.07151525, -0.10006109], dtype=float32), array([-1.2138243,  0.3851848, -1.8762841, -1.8353199], dtype=float32), array([-0.39080268,  2.4768891 ,  2.510001  ,  0.12152401], dtype=float32), array([ 0.34341282, -0.4556296 ,  0.6643084 ,  0.6099236 ], dtype=float32), array([ 0.65736735, -2.3863516 , -0.07282504,  1.5209305 ], dtype=float32), array([-1.5846096 , -0.7744841 , -0.26288682,  1.0862598 ], dtype=float32), array([-1.3488824 ,  0.85760456,  0.37669948,  1.8650709 ], dtype=float32), array([-1.8248843 , -1.2212952 ,  0.9012606 , -0.59803456], dtype=float32), array([ 0.27587718, -0.24760514,  0.33432323, -0.968739  ], dtype=float32)]\n"
     ]
    }
   ],
   "source": [
    "for jj in range(2):  # two sample trajectories...\n",
    "    prob_list, state_list, \\\n",
    "        actions_list, reward_list = collect_trajectory(env,policy,tmax=100)\n",
    "    print(reward_list)\n",
    "    print(prob_list)\n",
    "    print(actions_list)"
   ]
  },
  {
   "cell_type": "code",
   "execution_count": 9,
   "metadata": {},
   "outputs": [],
   "source": [
    "# clipped surrogate function\n",
    "# similar as -policy_loss for REINFORCE, but for PPO\n",
    "def clipped_surrogate(policy, old_probs, states, actions, rewards,\n",
    "                      discount=0.995,\n",
    "                      epsilon=0.1, beta=0.001,\n",
    "                      normalize_rewards = False # set to True for multi agent training env...                     \n",
    "                     ):  # beta = 0.01 before\n",
    "    debug_ = False\n",
    "    \n",
    "    discount = discount**np.arange(len(rewards))\n",
    "    rewards = np.asarray(rewards)*discount[:,np.newaxis]\n",
    "    \n",
    "    # convert rewards to future rewards\n",
    "    rewards_future = rewards[::-1].cumsum(axis=0)[::-1]\n",
    "    \n",
    "    if debug_:\n",
    "        print('rewards_future',rewards_future)\n",
    "        print('rewards_future.shape',rewards_future.shape)\n",
    "        \n",
    "    if normalize_rewards:\n",
    "        mean = np.mean(rewards_future, axis=1)\n",
    "        std = np.std(rewards_future, axis=1) + 1.0e-10\n",
    "        print('rewards_normalized - mean',mean)\n",
    "        print('rewards_normalized - std',std)\n",
    "        rewards_normalized = (rewards_future - mean[:,np.newaxis])/std[:,np.newaxis]\n",
    "        print('rewards_normalized',rewards_normalized)\n",
    "    else:\n",
    "        rewards_normalized = rewards_future.copy()\n",
    "    \n",
    "    if debug_:\n",
    "        print('actions:',actions)\n",
    "    # convert everything into pytorch tensors and move to gpu if available\n",
    "    actions = torch.tensor(actions, dtype=torch.float, device=device)  # this was int8 before :( \n",
    "    old_probs = torch.tensor(old_probs, dtype=torch.float, device=device)\n",
    "    rewards = torch.tensor(rewards_normalized, dtype=torch.float, device=device)\n",
    "\n",
    "    # convert states to policy (or probability)\n",
    "    #new_probs = states_to_prob(policy, states)    \n",
    "    \n",
    "\n",
    "    new_probs = 0 \n",
    "\n",
    "    for state, action in zip(states, actions):                \n",
    "                actions_t, prob_logs, prob_entr = policy.prob_4_action(state.float().to(device),action) # np.stack(states)\n",
    "                new_probs += prob_logs\n",
    "    \n",
    "    #actions_t, prob_logs, prob_entr = policy.prob_4_action_sum1(torch.from_numpy(states).float().to(device),actions) # np.stack(states)\n",
    "    #    new_probs = prob_logs\n",
    "        \n",
    "    #new_probs = torch.where(actions == RIGHT, new_probs, 1.0-new_probs)\n",
    "        \n",
    "    \n",
    "    # ratio for clipping\n",
    "    ###################''''''DEBUG!!!!\n",
    "    logratio = new_probs - old_probs.sum()    # ratio = new_probs/old_probs  #### BUG !!!! why old_probs list single probs, but new probs_ single value?\n",
    "    ratio = logratio.exp()    \n",
    "\n",
    "    if debug_ == True:\n",
    "        print('old_probs',old_probs)\n",
    "        print('old_probs',old_probs.sum())\n",
    "        print('new_probs',new_probs)        \n",
    "        print('ratio:',ratio)\n",
    "        print('exp:',torch.exp(new_probs - old_probs.sum()))\n",
    "\n",
    "    \n",
    "    if debug_:\n",
    "        print('RATIO: Shape:',ratio.shape)\n",
    "        print('REWARDS: Shape:',rewards.shape)\n",
    "    \n",
    "    # clipped function\n",
    "    clip = torch.clamp(ratio, 1-epsilon, 1+epsilon)\n",
    "    \n",
    "    rewards = rewards[:,:,None]\n",
    "    if debug_:\n",
    "        print('ratio*rewards',(ratio*rewards).shape)\n",
    "        print('clip*rewards',(clip*rewards).shape)\n",
    "    \n",
    "    clipped_surrogate = torch.min(ratio*rewards, clip*rewards)\n",
    "\n",
    "    if debug_:\n",
    "        print('ratio*rewards:',ratio*rewards)\n",
    "        print('clip*rewards:',clip*rewards)\n",
    "        print('clipped_surrogate:',clipped_surrogate)\n",
    "    \n",
    "        print('new_probs',new_probs)\n",
    "        print('old_probs',old_probs)\n",
    "\n",
    "    # include a regularization term\n",
    "    # this steers new_policy towards 0.5\n",
    "    # add in 1.e-10 to avoid log(0) which gives nan\n",
    "    # entropy = -(new_probs*torch.log(old_probs+1.e-10)+ \\\n",
    "    #    (1.0-new_probs)*torch.log(1.0-old_probs+1.e-10))\n",
    "\n",
    "    \n",
    "    # this returns an average of all the entries of the tensor\n",
    "    # effective computing L_sur^clip / T\n",
    "    # averaged over time-step and number of trajectories\n",
    "    # this is desirable because we have normalized our rewards\n",
    "    #return torch.mean(clipped_surrogate + beta*prob_entr)\n",
    "    return torch.mean(clipped_surrogate)\n"
   ]
  },
  {
   "cell_type": "code",
   "execution_count": 15,
   "metadata": {},
   "outputs": [
    {
     "name": "stderr",
     "output_type": "stream",
     "text": [
      "C:\\ProgramData\\Anaconda3\\envs\\drlnd\\lib\\site-packages\\ipykernel_launcher.py:33: UserWarning: Creating a tensor from a list of numpy.ndarrays is extremely slow. Please consider converting the list to a single numpy.ndarray with numpy.array() before converting to a tensor. (Triggered internally at  ..\\torch\\csrc\\utils\\tensor_new.cpp:201.)\n",
      "C:\\ProgramData\\Anaconda3\\envs\\drlnd\\lib\\site-packages\\ipykernel_launcher.py:18: UserWarning: torch.nn.utils.clip_grad_norm is now deprecated in favor of torch.nn.utils.clip_grad_norm_.\n"
     ]
    }
   ],
   "source": [
    "'''\n",
    "for jj in range(2):  # two sample trajectories...\n",
    "    prob_list, state_list, \\\n",
    "        actions_list, reward_list = collect_trajectory(env,policy,tmax=100)\n",
    "    print(reward_list)\n",
    "    print(prob_list)\n",
    "    print(actions_list)\n",
    "    \n",
    "   ''' \n",
    "    \n",
    "old_probs, states, actions, rewards = \\\n",
    "        collect_trajectory(env, policy, tmax=1000)\n",
    "                \n",
    "   \n",
    "L = -clipped_surrogate(policy, np.array(old_probs).sum(), states, actions, rewards, discount=0.99999, epsilon=0.1, beta=0.001)\n",
    "optimizer.zero_grad()\n",
    "L.backward()\n",
    "torch.nn.utils.clip_grad_norm(policy.parameters(), 1)   # take advise from Attempt 3 / Udacity Course \n",
    "optimizer.step()\n",
    "\n",
    "    "
   ]
  },
  {
   "cell_type": "code",
   "execution_count": 16,
   "metadata": {},
   "outputs": [
    {
     "name": "stdout",
     "output_type": "stream",
     "text": [
      "From collected Trajectory:\n",
      "Prob: [tensor(-5.3516)] Action [array([-0.9876507,  0.7677494,  0.8054404,  1.1622905], dtype=float32)]\n",
      "Probability sampled via policy derived probability distribution:\n",
      "Prob: tensor(-5.3516, grad_fn=<SumBackward0>) Action tensor([-0.9877,  0.7677,  0.8054,  1.1623])\n",
      "Prob: tensor(-5.3516, grad_fn=<SumBackward0>) Action tensor([-0.9877,  0.7677,  0.8054,  1.1623])\n"
     ]
    }
   ],
   "source": [
    "# Sanity Check - get elements from buffer and check if log probability can be reproduced...\n",
    "# Note: It's important to convert numpy to float and device for same numerical accuracy -> otherwhise big difference in probs!!\n",
    "\n",
    "actions = np.random.randn(num_agents, action_size)\n",
    "actions = np.clip(actions, -1, 1)                  # all actions between -1 and 1\n",
    "#print(actions)\n",
    "env_info = env.step(actions)[brain_name]           # send all actions to tne environment\n",
    "\n",
    "prob_list, state_list, \\\n",
    "        actions_list, reward_list = collect_trajectory(env,policy,tmax=1)\n",
    "print('From collected Trajectory:')\n",
    "print('Prob:',prob_list,'Action', actions_list)\n",
    "\n",
    "\n",
    "print('Probability sampled via policy derived probability distribution:')\n",
    "actions_t, prob_logs, prob_entr = policy.prob_4_action(torch.from_numpy(np.stack(state_list)).float().to(device),torch.from_numpy(actions_list[0]).float().to(device)) # stack or numpy?\n",
    "print('Prob:',prob_logs,'Action',actions_t)\n",
    "\n",
    "# not converted correctly!!\n",
    "actions_t_bad, prob_logs_bad, prob_entr_bad = policy.prob_4_action(torch.from_numpy(np.stack(state_list)).float().to(device),torch.from_numpy(actions_list[0]).float()) # stack or numpy?\n",
    "print('Prob:',prob_logs_bad,'Action',actions_t_bad)\n",
    "\n",
    "assert(prob_logs.detach().numpy()-prob_list[0].detach().numpy()) < 1e-4 "
   ]
  },
  {
   "cell_type": "code",
   "execution_count": 17,
   "metadata": {},
   "outputs": [
    {
     "name": "stdout",
     "output_type": "stream",
     "text": [
      "Parameter containing:\n",
      "tensor([0.1000, 0.1000, 0.1000, 0.1000], requires_grad=True)\n",
      "tensor([[0., -0., 0.,  ..., 0., 0., 0.],\n",
      "        [0., -0., 0.,  ..., 0., 0., 0.],\n",
      "        [0., -0., 0.,  ..., 0., 0., 0.],\n",
      "        ...,\n",
      "        [0., -0., 0.,  ..., 0., 0., 0.],\n",
      "        [0., -0., 0.,  ..., 0., 0., 0.],\n",
      "        [0., -0., 0.,  ..., 0., 0., 0.]])\n",
      "Parameter containing:\n",
      "tensor([0.1000, 0.1000, 0.1000, 0.1000], requires_grad=True)\n",
      "tensor([[ 3.5105e-07,  2.8632e-06, -7.5430e-07,  ..., -3.5212e-06,\n",
      "          0.0000e+00, -1.3349e-06],\n",
      "        [ 0.0000e+00, -0.0000e+00,  0.0000e+00,  ...,  0.0000e+00,\n",
      "          0.0000e+00,  0.0000e+00],\n",
      "        [ 3.4887e-06, -6.3350e-05, -1.3923e-06,  ...,  7.9428e-05,\n",
      "          0.0000e+00,  3.0112e-05],\n",
      "        ...,\n",
      "        [ 0.0000e+00, -0.0000e+00,  0.0000e+00,  ...,  0.0000e+00,\n",
      "          0.0000e+00,  0.0000e+00],\n",
      "        [ 0.0000e+00, -0.0000e+00,  0.0000e+00,  ...,  0.0000e+00,\n",
      "          0.0000e+00,  0.0000e+00],\n",
      "        [ 0.0000e+00, -0.0000e+00,  0.0000e+00,  ...,  0.0000e+00,\n",
      "          0.0000e+00,  0.0000e+00]])\n"
     ]
    },
    {
     "name": "stderr",
     "output_type": "stream",
     "text": [
      "C:\\ProgramData\\Anaconda3\\envs\\drlnd\\lib\\site-packages\\ipykernel_launcher.py:14: UserWarning: torch.nn.utils.clip_grad_norm is now deprecated in favor of torch.nn.utils.clip_grad_norm_.\n",
      "  \n"
     ]
    }
   ],
   "source": [
    "print(policy.actor_logstd)\n",
    "print(policy.fc1.weight.grad)\n",
    "old_probs, states, \\\n",
    "        actions, rewards = collect_trajectory(env,policy,tmax=3)\n",
    "old_probs[0] += 0.0005\n",
    "old_probs[1] += 0.0005\n",
    "old_probs[2] += 0.005\n",
    "rewards[1][0] += 1\n",
    "# Debug Surrogate Function \n",
    "L = -clipped_surrogate(policy, old_probs, states, actions, rewards, epsilon=0.1, beta=1e-6)\n",
    "optimizer.zero_grad()\n",
    "L.backward()\n",
    "#torch.nn.utils.clip_grad_norm(self.critic_local.parameters(), 1)   # take advise from Attempt 3 / Udacity Course \n",
    "torch.nn.utils.clip_grad_norm(policy.parameters(), 1)   # take advise from Attempt 3 / Udacity Course \n",
    "optimizer.step()\n",
    "print(policy.actor_logstd)\n",
    "print(policy.fc1.weight.grad)"
   ]
  },
  {
   "cell_type": "code",
   "execution_count": 18,
   "metadata": {},
   "outputs": [
    {
     "name": "stdout",
     "output_type": "stream",
     "text": [
      "(1, 4)\n",
      "1\n",
      "torch.Size([1, 33])\n",
      "tensor(-5.1915, grad_fn=<SumBackward0>) - tensor(-10.7645, grad_fn=<SumBackward0>) = tensor(5.5730, grad_fn=<SubBackward0>)\n",
      "[tensor(-10.7646)]\n",
      "tensor(-5.1915, grad_fn=<SumBackward0>)\n",
      "\n",
      "tensor(-10.7646) - tensor(-10.7645, grad_fn=<SumBackward0>) = tensor(5.5730, grad_fn=<SubBackward0>)\n",
      "tensor(1.0001, grad_fn=<ExpBackward0>)\n",
      "tensor(1.0001, grad_fn=<ClampBackward1>)\n"
     ]
    }
   ],
   "source": [
    "actions = np.random.randn(num_agents, action_size)\n",
    "#print(actions.shape)\n",
    "actions = np.clip(actions, -1, 1)                  # all actions between -1 and 1\n",
    "print(actions.shape)\n",
    "env_info = env.step(actions)[brain_name]           # send all actions to tne environment\n",
    "\n",
    "prob_list, state_list, \\\n",
    "        actions_list, reward_list = collect_trajectory(env,policy,tmax=1)\n",
    "print(len(state_list))\n",
    "print(state_list[0].shape)\n",
    "#states_to_prob(policy,state_list)\n",
    "\n",
    "actions_t, prob_logs, prob_entr = policy(torch.from_numpy(np.stack(state_list)).float().to(device)) # stack or numpy?\n",
    "new_probs = prob_logs\n",
    "actions_t, prob_logs, prob_entr = policy.prob_4_action(torch.from_numpy(np.stack(state_list)).float().to(device),torch.from_numpy(actions_list[0]).float().to(device)) # stack or numpy?\n",
    "new_probs2 = prob_logs\n",
    "\n",
    "\n",
    "print(new_probs,'-',new_probs2,'=',new_probs-new_probs2)\n",
    "\n",
    "print(prob_list)\n",
    "print(new_probs)\n",
    "\n",
    "print()\n",
    "old_probs = prob_list[0]\n",
    "print(old_probs,'-',new_probs2,'=',new_probs-new_probs2)\n",
    "\n",
    "# https://github.com/vwxyzjn/PPO-Implementation-Deep-Dive/blob/master/ppo_continuous_action.py\n",
    "# ratio for clipping\n",
    "logratio = new_probs2 - old_probs    # ratio = new_probs/old_probs\n",
    "ratio = logratio.exp()   \n",
    "print(ratio)\n",
    "# clipped function\n",
    "epsilon=0.1\n",
    "clip = torch.clamp(ratio, 1-epsilon, 1+epsilon)\n",
    "print(clip)\n",
    "\n",
    "assert abs(ratio-1)<1e-4"
   ]
  },
  {
   "cell_type": "code",
   "execution_count": 10,
   "metadata": {},
   "outputs": [],
   "source": [
    "#!pip install progressbar\n",
    "#import progressbar as pb\n",
    "from collections import deque"
   ]
  },
  {
   "cell_type": "code",
   "execution_count": 11,
   "metadata": {},
   "outputs": [
    {
     "name": "stderr",
     "output_type": "stream",
     "text": [
      "C:\\ProgramData\\Anaconda3\\envs\\drlnd\\lib\\site-packages\\ipykernel_launcher.py:33: UserWarning: Creating a tensor from a list of numpy.ndarrays is extremely slow. Please consider converting the list to a single numpy.ndarray with numpy.array() before converting to a tensor. (Triggered internally at  ..\\torch\\csrc\\utils\\tensor_new.cpp:201.)\n"
     ]
    },
    {
     "name": "stdout",
     "output_type": "stream",
     "text": [
      "Episode 0\tAverage Score: 0.00\tScore: 0.00\n",
      "Episode 100\tAverage Score: 0.24\tScore: 1.04\n",
      "Episode 200\tAverage Score: 0.22\tScore: 0.19\n",
      "Episode 300\tAverage Score: 0.25\tScore: 0.00\n",
      "Episode 400\tAverage Score: 0.27\tScore: 0.91\n",
      "Episode 500\tAverage Score: 0.30\tScore: 0.17\n",
      "Episode 600\tAverage Score: 0.28\tScore: 0.00\n",
      "Episode 700\tAverage Score: 0.26\tScore: 0.18\n",
      "Episode 800\tAverage Score: 0.32\tScore: 0.74\n",
      "Episode 900\tAverage Score: 0.31\tScore: 0.00\n",
      "Episode 1000\tAverage Score: 0.30\tScore: 1.19\n",
      "Episode 1100\tAverage Score: 0.32\tScore: 1.06\n",
      "Episode 1200\tAverage Score: 0.35\tScore: 0.22\n",
      "Episode 1300\tAverage Score: 0.31\tScore: 0.00\n",
      "Episode 1400\tAverage Score: 0.26\tScore: 0.25\n",
      "Episode 1500\tAverage Score: 0.32\tScore: 0.35\n",
      "Episode 1600\tAverage Score: 0.29\tScore: 0.64\n",
      "Episode 1700\tAverage Score: 0.33\tScore: 0.59\n",
      "Episode 1800\tAverage Score: 0.29\tScore: 0.00\n",
      "Episode 1900\tAverage Score: 0.24\tScore: 0.13\n",
      "Episode 2000\tAverage Score: 0.21\tScore: 0.00\n",
      "Episode 2100\tAverage Score: 0.25\tScore: 1.13\n",
      "Episode 2200\tAverage Score: 0.27\tScore: 0.30\n",
      "Episode 2300\tAverage Score: 0.27\tScore: 0.00\n",
      "Episode 2400\tAverage Score: 0.25\tScore: 0.00\n",
      "Episode 2500\tAverage Score: 0.18\tScore: 0.28\n",
      "Episode 2600\tAverage Score: 0.30\tScore: 0.25\n",
      "Episode 2700\tAverage Score: 0.26\tScore: 0.27\n",
      "Episode 2800\tAverage Score: 0.33\tScore: 0.00\n",
      "Episode 2900\tAverage Score: 0.26\tScore: 0.45\n",
      "Episode 3000\tAverage Score: 0.30\tScore: 0.47\n",
      "Episode 3100\tAverage Score: 0.29\tScore: 0.20\n",
      "Episode 3200\tAverage Score: 0.25\tScore: 0.16\n",
      "Episode 3300\tAverage Score: 0.27\tScore: 0.17\n",
      "Episode 3400\tAverage Score: 0.31\tScore: 1.61\n",
      "Episode 3500\tAverage Score: 0.28\tScore: 0.00\n",
      "Episode 3600\tAverage Score: 0.29\tScore: 0.00\n",
      "Episode 3700\tAverage Score: 0.29\tScore: 0.30\n",
      "Episode 3800\tAverage Score: 0.30\tScore: 0.25\n",
      "Episode 3900\tAverage Score: 0.33\tScore: 1.29\n",
      "Episode 4000\tAverage Score: 0.26\tScore: 0.00\n",
      "Episode 4076\tAverage Score: 0.27\tScore: 0.46"
     ]
    },
    {
     "ename": "KeyboardInterrupt",
     "evalue": "",
     "output_type": "error",
     "traceback": [
      "\u001b[1;31m---------------------------------------------------------------------------\u001b[0m",
      "\u001b[1;31mKeyboardInterrupt\u001b[0m                         Traceback (most recent call last)",
      "\u001b[1;32m<ipython-input-11-6f932abdb717>\u001b[0m in \u001b[0;36m<module>\u001b[1;34m\u001b[0m\n\u001b[0;32m     44\u001b[0m     \u001b[1;31m# gradient ascent step\u001b[0m\u001b[1;33m\u001b[0m\u001b[1;33m\u001b[0m\u001b[1;33m\u001b[0m\u001b[0m\n\u001b[0;32m     45\u001b[0m     \u001b[1;32mfor\u001b[0m \u001b[0m_\u001b[0m \u001b[1;32min\u001b[0m \u001b[0mrange\u001b[0m\u001b[1;33m(\u001b[0m\u001b[0mSGD_epoch\u001b[0m\u001b[1;33m)\u001b[0m\u001b[1;33m:\u001b[0m\u001b[1;33m\u001b[0m\u001b[1;33m\u001b[0m\u001b[0m\n\u001b[1;32m---> 46\u001b[1;33m         \u001b[0mL\u001b[0m \u001b[1;33m=\u001b[0m \u001b[1;33m-\u001b[0m\u001b[0mclipped_surrogate\u001b[0m\u001b[1;33m(\u001b[0m\u001b[0mpolicy\u001b[0m\u001b[1;33m,\u001b[0m \u001b[0mold_probs\u001b[0m\u001b[1;33m,\u001b[0m \u001b[0mstates\u001b[0m\u001b[1;33m,\u001b[0m \u001b[0mactions\u001b[0m\u001b[1;33m,\u001b[0m \u001b[0mrewards\u001b[0m\u001b[1;33m,\u001b[0m \u001b[0mdiscount\u001b[0m\u001b[1;33m=\u001b[0m\u001b[0mdiscount_rate\u001b[0m\u001b[1;33m,\u001b[0m \u001b[0mepsilon\u001b[0m\u001b[1;33m=\u001b[0m\u001b[0mepsilon\u001b[0m\u001b[1;33m,\u001b[0m \u001b[0mbeta\u001b[0m\u001b[1;33m=\u001b[0m\u001b[0mbeta\u001b[0m\u001b[1;33m)\u001b[0m\u001b[1;33m\u001b[0m\u001b[1;33m\u001b[0m\u001b[0m\n\u001b[0m\u001b[0;32m     47\u001b[0m         \u001b[0moptimizer\u001b[0m\u001b[1;33m.\u001b[0m\u001b[0mzero_grad\u001b[0m\u001b[1;33m(\u001b[0m\u001b[1;33m)\u001b[0m\u001b[1;33m\u001b[0m\u001b[1;33m\u001b[0m\u001b[0m\n\u001b[0;32m     48\u001b[0m         \u001b[0mL\u001b[0m\u001b[1;33m.\u001b[0m\u001b[0mbackward\u001b[0m\u001b[1;33m(\u001b[0m\u001b[1;33m)\u001b[0m\u001b[1;33m\u001b[0m\u001b[1;33m\u001b[0m\u001b[0m\n",
      "\u001b[1;32m<ipython-input-9-a841f00942d2>\u001b[0m in \u001b[0;36mclipped_surrogate\u001b[1;34m(policy, old_probs, states, actions, rewards, discount, epsilon, beta, normalize_rewards)\u001b[0m\n\u001b[0;32m      8\u001b[0m     \u001b[0mdebug_\u001b[0m \u001b[1;33m=\u001b[0m \u001b[1;32mFalse\u001b[0m\u001b[1;33m\u001b[0m\u001b[1;33m\u001b[0m\u001b[0m\n\u001b[0;32m      9\u001b[0m \u001b[1;33m\u001b[0m\u001b[0m\n\u001b[1;32m---> 10\u001b[1;33m     \u001b[0mdiscount\u001b[0m \u001b[1;33m=\u001b[0m \u001b[0mdiscount\u001b[0m\u001b[1;33m**\u001b[0m\u001b[0mnp\u001b[0m\u001b[1;33m.\u001b[0m\u001b[0marange\u001b[0m\u001b[1;33m(\u001b[0m\u001b[0mlen\u001b[0m\u001b[1;33m(\u001b[0m\u001b[0mrewards\u001b[0m\u001b[1;33m)\u001b[0m\u001b[1;33m)\u001b[0m\u001b[1;33m\u001b[0m\u001b[1;33m\u001b[0m\u001b[0m\n\u001b[0m\u001b[0;32m     11\u001b[0m     \u001b[0mrewards\u001b[0m \u001b[1;33m=\u001b[0m \u001b[0mnp\u001b[0m\u001b[1;33m.\u001b[0m\u001b[0masarray\u001b[0m\u001b[1;33m(\u001b[0m\u001b[0mrewards\u001b[0m\u001b[1;33m)\u001b[0m\u001b[1;33m*\u001b[0m\u001b[0mdiscount\u001b[0m\u001b[1;33m[\u001b[0m\u001b[1;33m:\u001b[0m\u001b[1;33m,\u001b[0m\u001b[0mnp\u001b[0m\u001b[1;33m.\u001b[0m\u001b[0mnewaxis\u001b[0m\u001b[1;33m]\u001b[0m\u001b[1;33m\u001b[0m\u001b[1;33m\u001b[0m\u001b[0m\n\u001b[0;32m     12\u001b[0m \u001b[1;33m\u001b[0m\u001b[0m\n",
      "\u001b[1;31mKeyboardInterrupt\u001b[0m: "
     ]
    }
   ],
   "source": [
    "## from parallelEnv import parallelEnv\n",
    "import numpy as np\n",
    "\n",
    "# training loop max iterations\n",
    "episode = 10000\n",
    "\n",
    "scores_deque = deque(maxlen=100)\n",
    "\n",
    "'''\n",
    "# widget bar to display progress\n",
    "!pip install progressbar\n",
    "import progressbar as pb\n",
    "widget = ['training loop: ', pb.Percentage(), ' ', \n",
    "          pb.Bar(), ' ', pb.ETA() ]\n",
    "timer = pb.ProgressBar(widgets=widget, maxval=episode).start()\n",
    "'''\n",
    "\n",
    "##envs = parallelEnv('PongDeterministic-v4', n=8, seed=1234)\n",
    "\n",
    "# hyperparameter to set \n",
    "discount_rate = .99 # before .9999999\n",
    "epsilon = 0.1\n",
    "epsilon_decay = 1\n",
    "beta = .0001\n",
    "beta_decay = 1\n",
    "#tmax = 320\n",
    "tmax = 9990\n",
    "SGD_epoch = 8  # 4 before\n",
    "\n",
    "# keep track of progress\n",
    "mean_rewards = []\n",
    "\n",
    "for e in range(episode):\n",
    "\n",
    "    # collect trajectories\n",
    "    #old_probs, states, actions, rewards = \\\n",
    "    #    pong_utils.collect_trajectories(envs, policy, tmax=tmax)\n",
    "    \n",
    "    old_probs, states, actions, rewards = \\\n",
    "        collect_trajectory(env, policy, tmax=tmax)\n",
    "                \n",
    "    total_rewards = np.sum(rewards, axis=0)\n",
    "\n",
    "    # gradient ascent step\n",
    "    for _ in range(SGD_epoch):\n",
    "        L = -clipped_surrogate(policy, old_probs, states, actions, rewards, discount=discount_rate, epsilon=epsilon, beta=beta)\n",
    "        optimizer.zero_grad()\n",
    "        L.backward()\n",
    "        #torch.nn.utils.clip_grad_norm(self.critic_local.parameters(), 1)   # take advise from Attempt 3 / Udacity Course \n",
    "        #torch.nn.utils.clip_grad_norm(policy.parameters(), 1)   # take advise from Attempt 3 / Udacity Course \n",
    "        optimizer.step()\n",
    "        del L\n",
    "        #raise\n",
    "    \n",
    "    # the clipping parameter reduces as time goes on\n",
    "    epsilon*=epsilon_decay\n",
    "    \n",
    "    # the regulation term also reduces\n",
    "    # this reduces exploration in later runs\n",
    "    beta*=beta_decay\n",
    "    \n",
    "    # get the average reward of the parallel environments\n",
    "    #mean_rewards.append(np.mean(total_rewards))\n",
    "    \n",
    "    scores_deque.append(np.mean(total_rewards))\n",
    "    #scores.append(np.mean(total_rewards))\n",
    "    print('\\rEpisode {}\\tAverage Score: {:.2f}\\tScore: {:.2f}'.format(e, np.mean(scores_deque), np.mean(total_rewards)), end=\"\")\n",
    "    #print(\"Episode: {0:d}, score: {1:f}, score: {1:f}\".format(e+1,np.mean(total_rewards),np.mean(mean_rewards)))\n",
    "    # display some progress every 20 iterations\n",
    "    if (e+0)%100 ==0 :\n",
    "        #print(\"Episode: {0:d}, score: {1:f}\".format(e+1,np.mean(mean_rewards)))\n",
    "        print('\\rEpisode {}\\tAverage Score: {:.2f}\\tScore: {:.2f}'.format(e, np.mean(scores_deque), np.mean(total_rewards)))\n",
    "        #print(policy.actor_logstd)\n",
    "        #print(policy.fc1.weight.grad.mean())\n",
    "        #print(policy.fc3.weight.grad.mean())\n",
    "        #print(total_rewards)\n",
    "\n",
    "        \n",
    "'''        \n",
    "    # update progress widget bar\n",
    "    timer.update(e+1)\n",
    "    \n",
    "timer.finish()\n",
    "'''"
   ]
  },
  {
   "cell_type": "code",
   "execution_count": 16,
   "metadata": {},
   "outputs": [
    {
     "name": "stdout",
     "output_type": "stream",
     "text": [
      "Parameter containing:\n",
      "tensor([ 0.0181, -0.0418, -0.0151, -0.0203], requires_grad=True)\n",
      "tensor(0.)\n",
      "tensor(0.)\n",
      "[0.24999999]\n",
      "Parameter containing:\n",
      "tensor([[-0.0357, -0.0827,  0.0735,  ...,  0.0430, -0.0171,  0.0442],\n",
      "        [-0.0147, -0.0077,  0.0492,  ..., -0.1059,  0.0652, -0.0595],\n",
      "        [ 0.0031,  0.0321,  0.0098,  ..., -0.0097,  0.1156, -0.0935],\n",
      "        ...,\n",
      "        [-0.0018,  0.1127,  0.0260,  ...,  0.0790, -0.0462, -0.0666],\n",
      "        [ 0.0486, -0.1086,  0.0450,  ..., -0.1124, -0.0524, -0.0349],\n",
      "        [ 0.0144, -0.1156, -0.1100,  ..., -0.0919,  0.0261, -0.0077]],\n",
      "       requires_grad=True)\n"
     ]
    }
   ],
   "source": [
    "print(policy.actor_logstd)\n",
    "print(policy.fc1.weight.grad.mean())\n",
    "print(policy.fc3.weight.grad.mean())\n",
    "print(total_rewards)\n",
    "print(policy.fc3.weight)"
   ]
  },
  {
   "cell_type": "code",
   "execution_count": 22,
   "metadata": {},
   "outputs": [
    {
     "name": "stdout",
     "output_type": "stream",
     "text": [
      "Parameter containing:\n",
      "tensor([0.1000, 0.1000, 0.1000, 0.1000], requires_grad=True)\n",
      "tensor([[ 1.4842e-05, -4.3140e-05, -9.5204e-06,  ...,  6.4171e-05,\n",
      "          0.0000e+00, -9.7016e-06],\n",
      "        [-8.9645e-06,  6.4387e-06, -7.9471e-06,  ..., -8.5658e-06,\n",
      "          0.0000e+00,  1.2424e-06],\n",
      "        [-2.8595e-05,  5.8721e-05, -2.4357e-05,  ..., -1.6642e-04,\n",
      "          0.0000e+00,  2.3975e-05],\n",
      "        ...,\n",
      "        [-6.5254e-06,  3.4711e-05,  4.9658e-06,  ..., -4.8173e-05,\n",
      "          0.0000e+00,  6.9872e-06],\n",
      "        [ 3.3733e-06, -9.5813e-07, -6.4235e-07,  ...,  4.5915e-06,\n",
      "          0.0000e+00, -6.6598e-07],\n",
      "        [ 0.0000e+00,  0.0000e+00,  0.0000e+00,  ...,  0.0000e+00,\n",
      "          0.0000e+00,  0.0000e+00]])\n",
      "tensor(-0.0006, grad_fn=<NegBackward0>)\n",
      "[[0.0], [0.0], [0.0], [0.0], [0.0], [0.0], [0.0], [0.0], [0.0], [0.0], [0.0], [0.0], [0.0], [0.0], [0.0], [0.0], [0.0], [0.0], [0.0], [0.0], [0.0], [0.0], [0.0], [0.0], [0.0], [0.0], [0.0], [0.0], [0.0], [0.0], [0.0], [0.0], [0.0], [0.0], [0.0], [0.0], [0.0], [0.0], [0.0], [0.0], [0.0], [0.0], [0.0], [0.0], [0.0], [0.0], [0.0], [0.0], [0.0], [0.0], [0.0], [0.0], [0.0], [0.0], [0.0], [0.0], [0.0], [0.0], [0.0], [0.0], [0.0], [0.0], [0.0], [0.0], [0.0], [0.0], [0.0], [0.0], [0.0], [0.0], [0.0], [0.0], [0.0], [0.0], [0.0], [0.0], [0.0], [0.0], [0.0], [0.0], [0.0], [0.0], [0.0], [0.0], [0.0], [0.0], [0.0], [0.0], [0.0], [0.0], [0.0], [0.0], [0.0], [0.0], [0.0], [0.0], [0.0], [0.0], [0.0], [0.0], [0.0], [0.0], [0.0], [0.0], [0.0], [0.0], [0.0], [0.0], [0.0], [0.0], [0.0], [0.0], [0.0], [0.0], [0.0], [0.0], [0.0], [0.0], [0.0], [0.0], [0.0], [0.0], [0.0], [0.0], [0.0], [0.0], [0.0], [0.0], [0.0], [0.0], [0.0], [0.0], [0.0], [0.0], [0.0], [0.0], [0.0], [0.0], [0.0], [0.0], [0.0], [0.0], [0.0], [0.0], [0.0], [0.0], [0.0], [0.0], [0.0], [0.0], [0.0], [0.0], [0.0], [0.0], [0.0], [0.0], [0.0], [0.0], [0.0], [0.0], [0.0], [0.0], [0.0], [0.0], [0.0], [0.0], [0.0], [0.0], [0.0], [0.0], [0.0], [0.0], [0.0], [0.0], [0.0], [0.0], [0.0], [0.0], [0.0], [0.0], [0.0], [0.0], [0.0], [0.0], [0.0], [0.0], [0.0], [0.0], [0.0], [0.0], [0.0], [0.0], [0.0], [0.0], [0.0], [0.0], [0.0], [0.0], [0.0], [0.0], [0.0], [0.0], [0.0], [0.0], [0.0], [0.0], [0.0], [0.0], [0.0], [0.0], [0.0], [0.0], [0.0], [0.0], [0.0], [0.0], [0.0], [0.0], [0.0], [0.0], [0.0], [0.0], [0.0], [0.0], [0.0], [0.0], [0.0], [0.0], [0.0], [0.0], [0.0], [0.0], [0.0], [0.0], [0.0], [0.0], [0.0], [0.0], [0.0], [0.0], [0.0], [0.0], [0.0], [0.0], [0.0], [0.0], [0.0], [0.0], [0.0], [0.0], [0.0], [0.0], [0.0], [0.0], [0.0], [0.0], [0.0], [0.0], [0.0], [0.0], [0.0], [0.0], [0.0], [0.0], [0.0], [0.0], [0.0], [0.0], [0.0], [0.0], [0.0], [0.0], [0.0], [0.0], [0.0], [0.0], [0.0], [0.0], [0.0], [0.0], [0.0], [0.0], [0.0], [0.0], [0.0], [0.0], [0.0], [0.0], [0.0], [0.0], [0.0], [0.0], [0.0], [0.0], [0.0], [0.0], [0.0], [0.0], [0.0], [0.0], [0.0], [0.0], [0.0], [0.0], [0.0], [0.0], [0.0], [0.0], [0.0], [0.0], [0.0], [0.0], [0.0], [0.0], [0.0], [0.0], [0.0], [0.0], [0.0], [0.0], [0.0], [0.0], [0.0], [0.0], [0.0], [0.0], [0.0], [0.0], [0.0], [0.0], [0.0], [0.0], [0.0], [0.0], [0.0], [0.0], [0.0], [0.0], [0.0], [0.0], [0.0], [0.0], [0.0], [0.0], [0.0], [0.0], [0.0], [0.0], [0.0], [0.0], [0.0], [0.0], [0.0], [0.0], [0.0], [0.0], [0.0], [0.0], [0.0], [0.0], [0.0], [0.0], [0.0], [0.0], [0.0], [0.0], [0.0], [0.0], [0.0], [0.0], [0.0], [0.0], [0.0], [0.0], [0.0], [0.0], [0.0], [0.0], [0.0], [0.0], [0.0], [0.0], [0.0], [0.0], [0.0], [0.0], [0.0], [0.0], [0.0], [0.0], [0.0], [0.0], [0.0], [0.0], [0.0], [0.0], [0.0], [0.0], [0.0], [0.0], [0.0], [0.0], [0.0], [0.0], [0.0], [0.0], [0.0], [0.0], [0.0], [0.0], [0.0], [0.0], [0.0], [0.0], [0.0], [0.0], [0.0], [0.0], [0.0], [0.0], [0.0], [0.0], [0.0], [0.0], [0.0], [0.0], [0.0], [0.0], [0.0], [0.0], [0.0], [0.0], [0.0], [0.0], [0.0], [0.0], [0.0], [0.0], [0.0], [0.0], [0.0], [0.0], [0.0], [0.0], [0.0], [0.0], [0.0], [0.0], [0.0], [0.0], [0.0], [0.0], [0.0], [0.0], [0.0], [0.0], [0.0], [0.0], [0.0], [0.0], [0.0], [0.0], [0.0], [0.0], [0.0], [0.0], [0.0], [0.0], [0.0], [0.0], [0.0], [0.0], [0.0], [0.0], [0.0], [0.0], [0.0], [0.0], [0.0], [0.0], [0.0], [0.0], [0.0], [0.0], [0.0], [0.0], [0.0], [0.0], [0.0], [0.0], [0.0], [0.0], [0.0], [0.0], [0.0], [0.0], [0.0], [0.0], [0.0], [0.0], [0.0], [0.0], [0.0], [0.0], [0.0], [0.0], [0.0], [0.0], [0.0], [0.0], [0.0], [0.0], [0.0], [0.0], [0.0], [0.0], [0.0], [0.0], [0.0], [0.0], [0.0], [0.0], [0.0], [0.0], [0.0], [0.0], [0.0], [0.0], [0.0], [0.0], [0.0], [0.0], [0.0], [0.0], [0.0], [0.0], [0.0], [0.0], [0.0], [0.0], [0.0], [0.0], [0.0], [0.0], [0.0], [0.0], [0.0], [0.0], [0.0], [0.0], [0.0], [0.0], [0.0], [0.0], [0.0], [0.0], [0.0], [0.0], [0.0], [0.0], [0.0], [0.0], [0.0], [0.0], [0.0], [0.0], [0.0], [0.0], [0.0], [0.0], [0.0], [0.0], [0.0], [0.0], [0.0], [0.0], [0.0], [0.0], [0.0], [0.0], [0.0], [0.0], [0.0], [0.0], [0.0], [0.0], [0.0], [0.0], [0.0], [0.0], [0.0], [0.0], [0.0], [0.0], [0.0], [0.0], [0.0], [0.0], [0.0], [0.0], [0.0], [0.0], [0.0], [0.0], [0.0], [0.0], [0.0], [0.0], [0.0], [0.0], [0.0], [0.0], [0.0], [0.0], [0.0], [0.0], [0.0], [0.0], [0.0], [0.0], [0.0], [0.0], [0.0], [0.0], [0.0], [0.0], [0.0], [0.0], [0.0], [0.0], [0.0], [0.0], [0.0], [0.0], [0.0], [0.0], [0.0], [0.0], [0.0], [0.0], [0.0], [0.0], [0.0], [0.0], [0.0], [0.0], [0.0], [0.0], [0.0], [0.0], [0.0], [0.0], [0.0], [0.0], [0.0], [0.0], [0.0], [0.0], [0.0], [0.0], [0.0], [0.0], [0.0], [0.0], [0.0], [0.0], [0.0], [0.0], [0.0], [0.0], [0.0], [0.0], [0.0], [0.0], [0.0], [0.0], [0.0], [0.0], [0.0], [0.0], [0.0], [0.0], [0.0], [0.0], [0.0], [0.0], [0.0], [0.0], [0.0], [0.0], [0.0], [0.0], [0.0], [0.0], [0.0], [0.0], [0.0], [0.0], [0.0], [0.0], [0.0], [0.0], [0.0], [0.0], [0.0], [0.0], [0.0], [0.0], [0.0], [0.0], [0.0], [0.0], [0.0], [0.0], [0.0], [0.0], [0.0], [0.0], [0.0], [0.0], [0.0], [0.0], [0.0], [0.0], [0.0], [0.0], [0.0], [0.0], [0.0], [0.0], [0.0], [0.0], [0.0], [0.0], [0.0], [0.0], [0.0], [0.0], [0.0], [0.0], [0.0], [0.0], [0.0], [0.0], [0.0], [0.0], [0.0], [0.0], [0.0], [0.0], [0.0], [0.0], [0.0], [0.0], [0.0], [0.0], [0.0], [0.0], [0.0], [0.0], [0.0], [0.0], [0.0], [0.0], [0.0], [0.0], [0.0], [0.0], [0.0], [0.0], [0.0], [0.0], [0.0], [0.0], [0.0], [0.0], [0.0], [0.0], [0.0], [0.0], [0.0], [0.0], [0.0], [0.0], [0.0], [0.0], [0.0], [0.0], [0.0], [0.0], [0.0], [0.0], [0.0], [0.0], [0.0], [0.0], [0.0], [0.0], [0.0], [0.0], [0.0], [0.0], [0.0], [0.0], [0.0], [0.0], [0.0], [0.0], [0.0], [0.0], [0.0], [0.0], [0.0], [0.0], [0.0], [0.0], [0.0], [0.0], [0.0], [0.0], [0.0], [0.0], [0.0], [0.0], [0.0], [0.0], [0.0], [0.0], [0.0], [0.0], [0.0], [0.0], [0.0], [0.0], [0.0], [0.0], [0.0], [0.0], [0.0], [0.0], [0.0], [0.0], [0.0], [0.0], [0.0], [0.0], [0.0], [0.0], [0.0], [0.0], [0.0], [0.0], [0.0], [0.0], [0.0], [0.0], [0.0], [0.0], [0.0], [0.0], [0.0], [0.0], [0.0], [0.0], [0.0], [0.0], [0.0], [0.0], [0.0], [0.0], [0.0], [0.0], [0.0], [0.0], [0.0], [0.0], [0.0], [0.0], [0.0], [0.0], [0.0], [0.0], [0.0], [0.0], [0.0], [0.0], [0.0], [0.0], [0.0], [0.0], [0.0], [0.0], [0.0], [0.0], [0.0], [0.0], [0.0], [0.0], [0.0], [0.0], [0.0], [0.0], [0.0], [0.0], [0.0], [0.0], [0.0], [0.0], [0.0], [0.0], [0.0], [0.0], [0.0], [0.0], [0.0], [0.0], [0.0], [0.0], [0.0], [0.0], [0.0], [0.0], [0.0], [0.0], [0.0], [0.0], [0.0], [0.0], [0.0], [0.0], [0.0], [0.0], [0.0], [0.0], [0.0], [0.0], [0.0], [0.0], [0.0], [0.0], [0.0], [0.0], [0.0], [0.0], [0.0], [0.0], [0.0], [0.0], [0.0], [0.0], [0.0], [0.0], [0.0], [0.0], [0.0], [0.0], [0.0], [0.0], [0.0], [0.0], [0.0], [0.0], [0.0], [0.0], [0.0], [0.0], [0.0], [0.0], [0.0], [0.0], [0.0], [0.0], [0.0], [0.0], [0.0], [0.0], [0.0], [0.0], [0.0], [0.0], [0.0], [0.0], [0.0], [0.0], [0.0], [0.0], [0.0], [0.0], [0.0], [0.0], [0.0], [0.0], [0.0], [0.0], [0.0], [0.0], [0.0], [0.0], [0.0], [0.0]]\n",
      "Parameter containing:\n",
      "tensor([0.1000, 0.1000, 0.1000, 0.1000], requires_grad=True)\n",
      "tensor([[ 1.4842e-05, -4.3140e-05, -9.5204e-06,  ...,  6.4171e-05,\n",
      "          0.0000e+00, -9.7016e-06],\n",
      "        [-8.9645e-06,  6.4387e-06, -7.9471e-06,  ..., -8.5658e-06,\n",
      "          0.0000e+00,  1.2424e-06],\n",
      "        [-2.8595e-05,  5.8721e-05, -2.4357e-05,  ..., -1.6642e-04,\n",
      "          0.0000e+00,  2.3975e-05],\n",
      "        ...,\n",
      "        [-6.5254e-06,  3.4711e-05,  4.9658e-06,  ..., -4.8173e-05,\n",
      "          0.0000e+00,  6.9872e-06],\n",
      "        [ 3.3733e-06, -9.5813e-07, -6.4235e-07,  ...,  4.5915e-06,\n",
      "          0.0000e+00, -6.6598e-07],\n",
      "        [ 0.0000e+00,  0.0000e+00,  0.0000e+00,  ...,  0.0000e+00,\n",
      "          0.0000e+00,  0.0000e+00]])\n",
      "Parameter containing:\n",
      "tensor([[ 0.0156,  0.0640, -0.0184,  ..., -0.0217, -0.0192,  0.0197],\n",
      "        [-0.0856,  0.0401, -0.0782,  ...,  0.0290,  0.0831,  0.0794],\n",
      "        [-0.0035,  0.0842,  0.0662,  ...,  0.0161, -0.0611, -0.0169],\n",
      "        ...,\n",
      "        [-0.0677,  0.0004,  0.0109,  ..., -0.0626, -0.0240, -0.0241],\n",
      "        [ 0.0160,  0.0277, -0.0533,  ...,  0.0533, -0.0305,  0.0595],\n",
      "        [ 0.0666,  0.0217,  0.0356,  ...,  0.0831, -0.0414, -0.0429]],\n",
      "       requires_grad=True)\n"
     ]
    }
   ],
   "source": [
    "print(policy.actor_logstd)\n",
    "print(policy.fc1.weight.grad)\n",
    "L = -clipped_surrogate(policy, old_probs, states, actions, rewards, epsilon=epsilon, beta=beta)\n",
    "print(L)\n",
    "print(rewards)\n",
    "optimizer.zero_grad()\n",
    "L.backward()\n",
    "optimizer.step()\n",
    "print(policy.actor_logstd)\n",
    "print(policy.fc1.weight.grad)\n",
    "print(policy.fc3.weight)"
   ]
  },
  {
   "cell_type": "code",
   "execution_count": 57,
   "metadata": {},
   "outputs": [
    {
     "data": {
      "text/plain": [
       "[<matplotlib.lines.Line2D at 0x21496be9e48>]"
      ]
     },
     "execution_count": 57,
     "metadata": {},
     "output_type": "execute_result"
    },
    {
     "data": {
      "image/png": "[encoded data removed]",
      "text/plain": [
       "<Figure size 432x288 with 1 Axes>"
      ]
     },
     "metadata": {
      "needs_background": "light"
     },
     "output_type": "display_data"
    }
   ],
   "source": [
    "e\n",
    "np.mean(mean_rewards)\n",
    "import matplotlib.pyplot as plt\n",
    "plt.figure()\n",
    "plt.plot(mean_rewards)"
   ]
  },
  {
   "cell_type": "code",
   "execution_count": null,
   "metadata": {},
   "outputs": [],
   "source": [
    "env_info = env.reset(train_mode=True)[brain_name]     # reset the environment    \n",
    "states = env_info.vector_observations                  # get the current state (for each agent)\n",
    "#actions = policy(torch.from_numpy(np.array(states)[0]).float().to(device)).squeeze().cpu().detach().numpy()      \n",
    "print(states[0])\n",
    "actions = policy(torch.from_numpy(states[0]).float().to(device)).squeeze().cpu().detach().numpy()      \n",
    "print(actions)"
   ]
  },
  {
   "cell_type": "markdown",
   "metadata": {},
   "source": [
    "### 3. Take Random Actions in the Environment\n",
    "\n",
    "In the next code cell, you will learn how to use the Python API to control the agent and receive feedback from the environment.\n",
    "\n",
    "Once this cell is executed, you will watch the agent's performance, if it selects an action at random with each time step.  A window should pop up that allows you to observe the agent, as it moves through the environment.  \n",
    "\n",
    "Of course, as part of the project, you'll have to change the code so that the agent is able to use its experience to gradually choose better actions when interacting with the environment!"
   ]
  },
  {
   "cell_type": "code",
   "execution_count": null,
   "metadata": {},
   "outputs": [],
   "source": [
    "env_info = env.reset(train_mode=False)[brain_name]     # reset the environment    \n",
    "states = env_info.vector_observations                  # get the current state (for each agent)\n",
    "scores = np.zeros(num_agents)                          # initialize the score (for each agent)\n",
    "while True:\n",
    "    actions = np.random.randn(num_agents, action_size) # select an action (for each agent)\n",
    "    actions = np.clip(actions, -1, 1)                  # all actions between -1 and 1\n",
    "    env_info = env.step(actions)[brain_name]           # send all actions to tne environment\n",
    "    next_states = env_info.vector_observations         # get next state (for each agent)\n",
    "    rewards = env_info.rewards                         # get reward (for each agent)\n",
    "    dones = env_info.local_done                        # see if episode finished\n",
    "    scores += env_info.rewards                         # update the score (for each agent)\n",
    "    states = next_states                               # roll over states to next time step\n",
    "    if np.any(dones):                                  # exit loop if episode finished\n",
    "        break\n",
    "print('Total score (averaged over agents) this episode: {}'.format(np.mean(scores)))"
   ]
  },
  {
   "cell_type": "markdown",
   "metadata": {},
   "source": [
    "When finished, you can close the environment."
   ]
  },
  {
   "cell_type": "code",
   "execution_count": 6,
   "metadata": {},
   "outputs": [],
   "source": [
    "env.close()"
   ]
  },
  {
   "cell_type": "markdown",
   "metadata": {},
   "source": [
    "### 4. It's Your Turn!\n",
    "\n",
    "Now it's your turn to train your own agent to solve the environment!  When training the environment, set `train_mode=True`, so that the line for resetting the environment looks like the following:\n",
    "```python\n",
    "env_info = env.reset(train_mode=True)[brain_name]\n",
    "```"
   ]
  }
 ],
 "metadata": {
  "kernelspec": {
   "display_name": "drlnd",
   "language": "python",
   "name": "drlnd"
  },
  "language_info": {
   "codemirror_mode": {
    "name": "ipython",
    "version": 3
   },
   "file_extension": ".py",
   "mimetype": "text/x-python",
   "name": "python",
   "nbconvert_exporter": "python",
   "pygments_lexer": "ipython3",
   "version": "3.6.13"
  }
 },
 "nbformat": 4,
 "nbformat_minor": 2
}
