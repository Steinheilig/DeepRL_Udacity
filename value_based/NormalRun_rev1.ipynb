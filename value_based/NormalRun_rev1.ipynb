{
 "cells": [
  {
   "cell_type": "code",
   "execution_count": 1,
   "metadata": {},
   "outputs": [],
   "source": [
    "import numpy as np\n",
    "from unityagents import UnityEnvironment"
   ]
  },
  {
   "cell_type": "code",
   "execution_count": 2,
   "metadata": {},
   "outputs": [
    {
     "name": "stderr",
     "output_type": "stream",
     "text": [
      "INFO:unityagents:\n",
      "'Academy' started successfully!\n",
      "Unity Academy name: Academy\n",
      "        Number of Brains: 1\n",
      "        Number of External Brains : 1\n",
      "        Lesson number : 0\n",
      "        Reset Parameters :\n",
      "\t\t\n",
      "Unity brain name: BananaBrain\n",
      "        Number of Visual Observations (per agent): 0\n",
      "        Vector Observation space type: continuous\n",
      "        Vector Observation space size (per agent): 37\n",
      "        Number of stacked Vector Observation: 1\n",
      "        Vector Action space type: discrete\n",
      "        Vector Action space size (per agent): 4\n",
      "        Vector Action descriptions: , , , \n"
     ]
    }
   ],
   "source": [
    "# start the environmen\n",
    "env = UnityEnvironment(file_name=\"C:\\EigeneLokaleDaten\\DeepRL\\Value-based-methods\\p1_navigation\\Banana_Windows_x86_64\\Banana.exe\",no_graphics=True)\n",
    "# Environments contain brains which are responsible for deciding the actions of their associated agents. \n",
    "# get the default brain\n",
    "brain_name = env.brain_names[0]\n",
    "brain = env.brains[brain_name]"
   ]
  },
  {
   "cell_type": "code",
   "execution_count": 3,
   "metadata": {},
   "outputs": [
    {
     "name": "stdout",
     "output_type": "stream",
     "text": [
      "Number of agents: 1\n",
      "Number of actions: 4\n",
      "States look like: [1.         0.         0.         0.         0.84408134 0.\n",
      " 0.         1.         0.         0.0748472  0.         1.\n",
      " 0.         0.         0.25755    1.         0.         0.\n",
      " 0.         0.74177343 0.         1.         0.         0.\n",
      " 0.25854847 0.         0.         1.         0.         0.09355672\n",
      " 0.         1.         0.         0.         0.31969345 0.\n",
      " 0.        ]\n",
      "States have length: 37\n"
     ]
    }
   ],
   "source": [
    "# reset the environment\n",
    "env_info = env.reset(train_mode=True)[brain_name]\n",
    "\n",
    "# number of agents in the environment\n",
    "print('Number of agents:', len(env_info.agents))\n",
    "\n",
    "# number of actions\n",
    "action_size = brain.vector_action_space_size\n",
    "print('Number of actions:', action_size)\n",
    "\n",
    "# examine the state space \n",
    "state = env_info.vector_observations[0]\n",
    "print('States look like:', state)\n",
    "state_size = len(state)\n",
    "print('States have length:', state_size)"
   ]
  },
  {
   "cell_type": "code",
   "execution_count": 4,
   "metadata": {},
   "outputs": [
    {
     "name": "stdout",
     "output_type": "stream",
     "text": [
      "[ 1.          1.          4.15703583 12.42948914]\n"
     ]
    }
   ],
   "source": [
    "# let's start with training a DQN \n",
    "import random\n",
    "import torch\n",
    "import numpy as np\n",
    "from collections import deque\n",
    "from dqn_agent import Agent\n",
    "agent = Agent(state_size=state_size, action_size=action_size,seed=42 )  # \n",
    "\n",
    "#agent.qnetwork_local.load_state_dict(torch.load('./submission/checkpoint_Normal_scaled.pth'))\n",
    "#agent.qnetwork_target.load_state_dict(torch.load('./submission/checkpoint_Normal_scaled.pth'))\n",
    "\n",
    "scale_s = np.ones([37,])\n",
    "scale_s[-1] = 12.42948914\n",
    "scale_s[-2] = 4.15703583 \n",
    "print(scale_s[-4:])"
   ]
  },
  {
   "cell_type": "code",
   "execution_count": 5,
   "metadata": {},
   "outputs": [
    {
     "name": "stdout",
     "output_type": "stream",
     "text": [
      "lets start\n",
      "USE Double-DQN\n",
      "Episode 100\tAverage Score: 0.66\n",
      "Episode 200\tAverage Score: 4.33\n",
      "Episode 300\tAverage Score: 7.38\n",
      "Episode 400\tAverage Score: 9.35\n",
      "Episode 500\tAverage Score: 11.91\n",
      "Episode 600\tAverage Score: 14.24\n",
      "\n",
      "Environment solved in 500 episodes!\tAverage Score: 14.24\n",
      "Episode 700\tAverage Score: 15.28\n",
      "\n",
      "Environment solved in 600 episodes!\tAverage Score: 15.28\n",
      "Episode 800\tAverage Score: 15.41\n",
      "\n",
      "Environment solved in 700 episodes!\tAverage Score: 15.41\n",
      "Episode 900\tAverage Score: 16.08\n",
      "\n",
      "Environment solved in 800 episodes!\tAverage Score: 16.08\n",
      "Episode 1000\tAverage Score: 16.41\n",
      "\n",
      "Environment solved in 900 episodes!\tAverage Score: 16.41\n",
      "Episode 1100\tAverage Score: 16.65\n",
      "\n",
      "Environment solved in 1000 episodes!\tAverage Score: 16.65\n",
      "Episode 1200\tAverage Score: 15.82\n",
      "\n",
      "Environment solved in 1100 episodes!\tAverage Score: 15.82\n",
      "Episode 1300\tAverage Score: 16.10\n",
      "\n",
      "Environment solved in 1200 episodes!\tAverage Score: 16.10\n",
      "Episode 1400\tAverage Score: 15.18\n",
      "\n",
      "Environment solved in 1300 episodes!\tAverage Score: 15.18\n",
      "Episode 1500\tAverage Score: 16.65\n",
      "\n",
      "Environment solved in 1400 episodes!\tAverage Score: 16.65\n",
      "Episode 1600\tAverage Score: 16.00\n",
      "\n",
      "Environment solved in 1500 episodes!\tAverage Score: 16.00\n",
      "Episode 1700\tAverage Score: 15.87\n",
      "\n",
      "Environment solved in 1600 episodes!\tAverage Score: 15.87\n",
      "Episode 1800\tAverage Score: 16.04\n",
      "\n",
      "Environment solved in 1700 episodes!\tAverage Score: 16.04\n",
      "Episode 1900\tAverage Score: 15.70\n",
      "\n",
      "Environment solved in 1800 episodes!\tAverage Score: 15.70\n",
      "Episode 2000\tAverage Score: 16.12\n",
      "\n",
      "Environment solved in 1900 episodes!\tAverage Score: 16.12\n",
      "\n",
      "save anyway...\n"
     ]
    },
    {
     "data": {
      "image/png": "[encoded data removed]",
      "text/plain": [
       "<Figure size 432x288 with 1 Axes>"
      ]
     },
     "metadata": {
      "needs_background": "light"
     },
     "output_type": "display_data"
    }
   ],
   "source": [
    "print('lets start')\n",
    "\n",
    "def dqn(n_episodes=2000, max_t=1000, eps_start=1.0, eps_end=0.01, eps_decay=0.995):\n",
    "    \"\"\"Deep Q-Learning.\n",
    "    \n",
    "    Function adapted from DeepRL Udacity example\n",
    "    \n",
    "    Params\n",
    "    ======\n",
    "        n_episodes (int): maximum number of training episodes\n",
    "        max_t (int): maximum number of timesteps per episode\n",
    "        eps_start (float): starting value of epsilon, for epsilon-greedy action selection\n",
    "        eps_end (float): minimum value of epsilon\n",
    "        eps_decay (float): multiplicative factor (per episode) for decreasing epsilon\n",
    "    \"\"\"\n",
    "    scores = []                        # list containing scores from each episode\n",
    "    scores_window = deque(maxlen=100)  # last 100 scores\n",
    "    eps = eps_start                    # initialize epsilon\n",
    "    for i_episode in range(1, n_episodes+1):\n",
    "        #state = env.reset()\n",
    "        env_info = env.reset(train_mode=True)[brain_name] # reset the environment\n",
    "        state = env_info.vector_observations[0] # look into the world ;) \n",
    "        state = state/scale_s\n",
    "        score = 0\n",
    "        for t in range(max_t):\n",
    "            #action = np.random.randint(action_size-1)        # select a random  action\n",
    "            action = agent.act(state, eps)    # DQN agent action selection \n",
    "            action_env = action \n",
    "            '''\n",
    "            if action == 1:  # just forward and turn left \n",
    "                action_env = 2  \n",
    "            else:\n",
    "                action_env = 0\n",
    "            '''             \n",
    "                \n",
    "            #next_state, reward, done, _ = env.step(action)\n",
    "            env_info = env.step(int(action_env))[brain_name]        # send the action to the environment\n",
    "            next_state = env_info.vector_observations[0]   # get the next state\n",
    "            next_state = next_state/scale_s\n",
    "            reward = env_info.rewards[0]                   # get the reward\n",
    "            done = env_info.local_done[0]                  # see if episode has finished            \n",
    "            \n",
    "            #print(action)\n",
    "            agent.step(state, action, reward, next_state, done)  # agent performs step \n",
    "            state = next_state\n",
    "            score += reward\n",
    "            if done:\n",
    "                break \n",
    "        scores_window.append(score)       # save most recent score\n",
    "        scores.append(score)              # save most recent score\n",
    "        eps = max(eps_end, eps_decay*eps) # decrease epsilon\n",
    "        print('\\rEpisode {}\\tAverage Score: {:.2f}'.format(i_episode, np.mean(scores_window)), end=\"\")\n",
    "        if i_episode % 100 == 0:\n",
    "            print('\\rEpisode {}\\tAverage Score: {:.2f}'.format(i_episode, np.mean(scores_window)))\n",
    "            if np.mean(scores_window)>=13.0:\n",
    "                print('\\nEnvironment solved in {:d} episodes!\\tAverage Score: {:.2f}'.format(i_episode-100, np.mean(scores_window)))\n",
    "                torch.save(agent.qnetwork_local.state_dict(), 'checkpoint_Normal_scaled_NEW.pth')\n",
    "    return scores\n",
    "\n",
    "scores = dqn()\n",
    "\n",
    "print('\\nsave anyway...')\n",
    "torch.save(agent.qnetwork_local.state_dict(), 'checkpoint_whatever2_NEW.pth')\n",
    "\n",
    "# plot the scores\n",
    "import matplotlib.pyplot as plt\n",
    "fig = plt.figure()\n",
    "ax = fig.add_subplot(111)\n",
    "plt.plot(np.arange(len(scores)), scores)\n",
    "plt.ylabel('Score')\n",
    "plt.xlabel('Episode #')\n",
    "plt.show()"
   ]
  }
 ],
 "metadata": {
  "kernelspec": {
   "display_name": "drlnd",
   "language": "python",
   "name": "drlnd"
  },
  "language_info": {
   "codemirror_mode": {
    "name": "ipython",
    "version": 3
   },
   "file_extension": ".py",
   "mimetype": "text/x-python",
   "name": "python",
   "nbconvert_exporter": "python",
   "pygments_lexer": "ipython3",
   "version": "3.6.13"
  }
 },
 "nbformat": 4,
 "nbformat_minor": 4
}
