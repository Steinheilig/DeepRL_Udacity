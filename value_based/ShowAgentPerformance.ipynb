{
 "cells": [
  {
   "cell_type": "code",
   "execution_count": 1,
   "metadata": {},
   "outputs": [],
   "source": [
    "import numpy as np\n",
    "from unityagents import UnityEnvironment"
   ]
  },
  {
   "cell_type": "code",
   "execution_count": 2,
   "metadata": {},
   "outputs": [
    {
     "name": "stderr",
     "output_type": "stream",
     "text": [
      "INFO:unityagents:\n",
      "'Academy' started successfully!\n",
      "Unity Academy name: Academy\n",
      "        Number of Brains: 1\n",
      "        Number of External Brains : 1\n",
      "        Lesson number : 0\n",
      "        Reset Parameters :\n",
      "\t\t\n",
      "Unity brain name: BananaBrain\n",
      "        Number of Visual Observations (per agent): 0\n",
      "        Vector Observation space type: continuous\n",
      "        Vector Observation space size (per agent): 37\n",
      "        Number of stacked Vector Observation: 1\n",
      "        Vector Action space type: discrete\n",
      "        Vector Action space size (per agent): 4\n",
      "        Vector Action descriptions: , , , \n"
     ]
    }
   ],
   "source": [
    "# start the environmen\n",
    "env = UnityEnvironment(file_name=\"C:\\EigeneLokaleDaten\\DeepRL\\Value-based-methods\\p1_navigation\\Banana_Windows_x86_64\\Banana.exe\")\n",
    "# Environments contain brains which are responsible for deciding the actions of their associated agents. \n",
    "# get the default brain\n",
    "brain_name = env.brain_names[0]\n",
    "brain = env.brains[brain_name]"
   ]
  },
  {
   "cell_type": "code",
   "execution_count": 3,
   "metadata": {},
   "outputs": [
    {
     "name": "stdout",
     "output_type": "stream",
     "text": [
      "Number of agents: 1\n",
      "Number of actions: 4\n"
     ]
    },
    {
     "data": {
      "text/plain": [
       "<All keys matched successfully>"
      ]
     },
     "execution_count": 3,
     "metadata": {},
     "output_type": "execute_result"
    }
   ],
   "source": [
    "import torch\n",
    "import numpy as np\n",
    "from collections import deque\n",
    "from dqn_agent import Agent\n",
    "\n",
    "# reset the environment\n",
    "env_info = env.reset(train_mode=True)[brain_name]\n",
    "\n",
    "# number of agents in the environment\n",
    "print('Number of agents:', len(env_info.agents))\n",
    "# number of actions\n",
    "action_size = brain.vector_action_space_size\n",
    "print('Number of actions:', action_size)\n",
    "# examine the state space \n",
    "state = env_info.vector_observations[0]\n",
    "state_size = len(state)\n",
    "\n",
    "# init agent network\n",
    "agent = Agent(state_size=state_size, action_size=action_size, seed=42)  # \n",
    "\n",
    "# load weights of trained agent\n",
    "agent.qnetwork_local.load_state_dict(torch.load('checkpoint_Normal_scaled_rev1.pth'))\n",
    "\n",
    "#agent.qnetwork_local.load_state_dict(torch.load('./submission/checkpoint_Normal_scaled.pth')\n",
    "#agent.qnetwork_local.load_state_dict(torch.load('checkpoint_Speedrunner1_DONE.pth'))\n",
    "#agent.qnetwork_local.load_state_dict(torch.load('checkpoint_Normal_scaled_NEW.pth'))\n",
    "#agent.qnetwork_target.load_state_dict(torch.load('./submission/checkpoint_Normal_scaled.pth'))\n",
    "#torch.load(agent.qnetwork_target.state_dict(), 'checkpoint_Normal_scaled.pth')\n"
   ]
  },
  {
   "cell_type": "code",
   "execution_count": null,
   "metadata": {},
   "outputs": [
    {
     "name": "stdout",
     "output_type": "stream",
     "text": [
      "lets start\n",
      "[ 1.          1.          4.15703583 12.42948914]\n",
      "USE Double-DQN\n"
     ]
    }
   ],
   "source": [
    "print('lets start')\n",
    "\n",
    "scale_s = np.ones([37,])\n",
    "scale_s[-1] = 12.42948914\n",
    "scale_s[-2] = 4.15703583 \n",
    "print(scale_s[-4:])\n",
    "\n",
    "n_episodes = 10\n",
    "max_t = 1000\n",
    "reward = 0 \n",
    "score = 0 \n",
    "for i_episode in range(1, n_episodes+1):\n",
    "        #state = env.reset()\n",
    "        env_info = env.reset(train_mode=False)[brain_name] # reset the environment\n",
    "        state = env_info.vector_observations[0] # look into the world ;) \n",
    "        state = state/scale_s\n",
    "        for t in range(max_t):\n",
    "            #action = np.random.randint(action_size-1)        # select a random  action\n",
    "            action = agent.act(state, eps=0)    # DQN agent action selection   \n",
    "            action_env = action\n",
    "            \n",
    "            '''\n",
    "            if action == 1:  # just forward and turn left \n",
    "                action_env = 2  \n",
    "            else:\n",
    "                action_env = 0\n",
    "            '''\n",
    "            \n",
    "            env_info = env.step(int(action_env))[brain_name]        # send the action to the environment\n",
    "            next_state = env_info.vector_observations[0]   # get the next state\n",
    "            next_state = next_state/scale_s\n",
    "            reward = env_info.rewards[0]                   # get the reward\n",
    "            done = env_info.local_done[0]                  # see if episode has finished            \n",
    "            \n",
    "            #print(action)\n",
    "            agent.step(state, action, reward, next_state, done)  # agent performs step \n",
    "            state = next_state\n",
    "            score += reward\n",
    "            if done:\n",
    "                break \n",
    "print(score)"
   ]
  }
 ],
 "metadata": {
  "kernelspec": {
   "display_name": "drlnd",
   "language": "python",
   "name": "drlnd"
  },
  "language_info": {
   "codemirror_mode": {
    "name": "ipython",
    "version": 3
   },
   "file_extension": ".py",
   "mimetype": "text/x-python",
   "name": "python",
   "nbconvert_exporter": "python",
   "pygments_lexer": "ipython3",
   "version": "3.6.13"
  }
 },
 "nbformat": 4,
 "nbformat_minor": 4
}
