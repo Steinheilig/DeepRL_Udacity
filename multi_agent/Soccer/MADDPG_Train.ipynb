{
 "cells": [
  {
   "cell_type": "markdown",
   "metadata": {},
   "source": [
    "# Multi-Agent Deep Deterministic Policy Gradients (MADDPG)\n",
    "# Assignment Collaboration and Competition\n",
    "\n",
    "---\n",
    "\n",
    "In this notebook, you will learn how to use the Unity ML-Agents environment for the third project of the [Deep Reinforcement Learning Nanodegree](https://www.udacity.com/course/deep-reinforcement-learning-nanodegree--nd893) program.'\n",
    "\n",
    "### 1. Start the Environment\n",
    "\n",
    "We begin by importing the necessary packages.  If the code cell below returns an error, please revisit the project instructions to double-check that you have installed [Unity ML-Agents](https://github.com/Unity-Technologies/ml-agents/blob/master/docs/Installation.md) and [NumPy](http://www.numpy.org/)."
   ]
  },
  {
   "cell_type": "code",
   "execution_count": 1,
   "metadata": {},
   "outputs": [],
   "source": [
    "from unityagents import UnityEnvironment\n",
    "import numpy as np"
   ]
  },
  {
   "cell_type": "code",
   "execution_count": 2,
   "metadata": {},
   "outputs": [
    {
     "name": "stderr",
     "output_type": "stream",
     "text": [
      "INFO:unityagents:\n",
      "'Academy' started successfully!\n",
      "Unity Academy name: Academy\n",
      "        Number of Brains: 2\n",
      "        Number of External Brains : 2\n",
      "        Lesson number : 0\n",
      "        Reset Parameters :\n",
      "\t\t\n",
      "Unity brain name: GoalieBrain\n",
      "        Number of Visual Observations (per agent): 0\n",
      "        Vector Observation space type: continuous\n",
      "        Vector Observation space size (per agent): 112\n",
      "        Number of stacked Vector Observation: 3\n",
      "        Vector Action space type: discrete\n",
      "        Vector Action space size (per agent): 4\n",
      "        Vector Action descriptions: , , , \n",
      "Unity brain name: StrikerBrain\n",
      "        Number of Visual Observations (per agent): 0\n",
      "        Vector Observation space type: continuous\n",
      "        Vector Observation space size (per agent): 112\n",
      "        Number of stacked Vector Observation: 3\n",
      "        Vector Action space type: discrete\n",
      "        Vector Action space size (per agent): 6\n",
      "        Vector Action descriptions: , , , , , \n"
     ]
    }
   ],
   "source": [
    "no_graphics=True\n",
    "#no_graphics=False\n",
    "env = UnityEnvironment(file_name='C:\\EigeneLokaleDaten\\DeepRL\\Value-based-methods\\p3_Soccer\\Soccer_Windows_x86_64\\Soccer.exe',no_graphics=no_graphics)\n",
    "goalies_defending = True  # "
   ]
  },
  {
   "cell_type": "markdown",
   "metadata": {},
   "source": [
    "Environments contain **_brains_** which are responsible for deciding the actions of their associated agents. Here we check for the first brain available, and set it as the default brain we will be controlling from Python."
   ]
  },
  {
   "cell_type": "code",
   "execution_count": 3,
   "metadata": {},
   "outputs": [],
   "source": [
    "# follow nomucaltur: https://github.com/udacity/deep-reinforcement-learning/blob/master/p3_collab-compet/Soccer.ipynb\n",
    "# set the goalie brain\n",
    "g_brain_name = env.brain_names[0]\n",
    "g_brain = env.brains[g_brain_name]\n",
    "\n",
    "# set the striker brain\n",
    "s_brain_name = env.brain_names[1]\n",
    "s_brain = env.brains[s_brain_name]"
   ]
  },
  {
   "cell_type": "code",
   "execution_count": 4,
   "metadata": {},
   "outputs": [
    {
     "name": "stdout",
     "output_type": "stream",
     "text": [
      "Number of goalie agents: 2\n",
      "Number of striker agents: 2\n",
      "Number of goalie actions: 4\n",
      "Number of striker actions: 6\n",
      "There are 2 goalie agents. Each receives a state with length: 336\n",
      "There are 2 striker agents. Each receives a state with length: 336\n"
     ]
    }
   ],
   "source": [
    "# reset the environment\n",
    "env_info = env.reset(train_mode=True)\n",
    "\n",
    "# number of agents \n",
    "num_g_agents = len(env_info[g_brain_name].agents)\n",
    "print('Number of goalie agents:', num_g_agents)\n",
    "num_s_agents = len(env_info[s_brain_name].agents)\n",
    "print('Number of striker agents:', num_s_agents)\n",
    "\n",
    "# number of actions\n",
    "g_action_size = g_brain.vector_action_space_size\n",
    "print('Number of goalie actions:', g_action_size)\n",
    "s_action_size = s_brain.vector_action_space_size\n",
    "print('Number of striker actions:', s_action_size)\n",
    "\n",
    "# examine the state space \n",
    "g_states = env_info[g_brain_name].vector_observations\n",
    "g_state_size = g_states.shape[1]\n",
    "print('There are {} goalie agents. Each receives a state with length: {}'.format(g_states.shape[0], g_state_size))\n",
    "s_states = env_info[s_brain_name].vector_observations\n",
    "s_state_size = s_states.shape[1]\n",
    "print('There are {} striker agents. Each receives a state with length: {}'.format(s_states.shape[0], s_state_size))"
   ]
  },
  {
   "cell_type": "markdown",
   "metadata": {},
   "source": [
    "### 2 It's My Turn!\n",
    "\n",
    "Now it's your turn to train your own agent to solve the environment!  When training the environment, set `train_mode=True`, so that the line for resetting the environment looks like the following:\n",
    "```python\n",
    "env_info = env.reset(train_mode=True)[brain_name]\n",
    "```"
   ]
  },
  {
   "cell_type": "code",
   "execution_count": 5,
   "metadata": {},
   "outputs": [],
   "source": [
    "from collections import deque\n",
    "import torch\n",
    "import numpy as np\n",
    "import os\n",
    "\n",
    "from buffer import ReplayBuffer  ## REWRITE BUFFER  // Check UTILITIS\n",
    "\n",
    "# rewritten MADDPG to have actor/critic networks of appropriate shapes, \n",
    "# i.e. 24 states and 2 actions per agent\n",
    "from maddpg import MADDPG       \n",
    "\n",
    "def seeding(seed=1):\n",
    "    np.random.seed(seed)\n",
    "    torch.manual_seed(seed)"
   ]
  },
  {
   "cell_type": "code",
   "execution_count": null,
   "metadata": {},
   "outputs": [],
   "source": [
    "debug_ = False\n",
    "\n",
    "scores_window = deque(maxlen=100)  # last 100 max scores\n",
    "scores_window_mean = deque(maxlen=100)  # last 100 mean scores\n",
    "\n",
    "seeding(42)\n",
    "# number of parallel agents\n",
    "parallel_envs = 1   # start with a single Unity-ML env\n",
    "# number of training episodes.\n",
    "training_episods = 10000*3\n",
    "buffer_length = 100*10000\n",
    "\n",
    "if debug_:\n",
    "    batchsize = 3\n",
    "else:\n",
    "    batchsize = 128*1 \n",
    "\n",
    "UPDATE_EVERY_NTH_STEP = 30\n",
    "UPDATE_MANY_EPOCHS = 20\n",
    "\n",
    "t = 0\n",
    "    \n",
    "# epsilon greedy: initial epsilon and decay\n",
    "noise_start = 1\n",
    "noise_reduction = 0.999\n",
    "\n",
    "# how many episodes before update\n",
    "episode_per_update = 2 * parallel_envs\n",
    "\n",
    "torch.set_num_threads(parallel_envs)\n",
    "    \n",
    "#from tensorboardX import SummaryWriter\n",
    "#logger = SummaryWriter(log_dir=log_path)\n",
    "num_agents = 2 "
   ]
  },
  {
   "cell_type": "code",
   "execution_count": null,
   "metadata": {},
   "outputs": [
    {
     "name": "stdout",
     "output_type": "stream",
     "text": [
      "batchsize 128\n",
      "init OUNoise with dim= 1\n",
      "init OUNoise with dim= 1\n",
      "#1 [tensor([[0.0992, 0.1471, 0.1421, 0.2501, 0.1385, 0.2230],\n",
      "        [0.2024, 0.1089, 0.2462, 0.1767, 0.1707, 0.0951]], dtype=torch.float64)]\n",
      "#2 [3 2]\n",
      "#3 [[0.09919614 0.14708694 0.142117   0.25011663 0.13847178 0.22301151]\n",
      " [0.20235354 0.10892883 0.24619895 0.17668853 0.1707112  0.09511895]]\n",
      "Episode 0\tAverage <Score>: -0.91\tAverage Max Score: -0.87\tMax Score: 0.94\tMax Average Max Score: -0.87\n",
      "Episode 50\tAverage <Score>: -0.66\tAverage Max Score: -0.52\tMax Score: 0.98\tMax Average Max Score: -0.25\n",
      "Episode 59\tAverage <Score>: -0.70\tAverage Max Score: -0.58\tMax Score: 0.98\tMax Average Max Score: -0.25"
     ]
    }
   ],
   "source": [
    "# keep 1e6 samples of replay\n",
    "buffer = ReplayBuffer(int(buffer_length))  #\n",
    "\n",
    "print('batchsize',batchsize)\n",
    "\n",
    "# initialize policy and critic\n",
    "maddpg = MADDPG()\n",
    "agent0_reward = []\n",
    "agent1_reward = []\n",
    "\n",
    "env_info = env.reset(train_mode=True)      # reset the environment    \n",
    "states_f = env_info[s_brain_name].vector_observations                  # get the current state (for each agent)\n",
    "states = states_f[:,-224:]\n",
    "actions = maddpg.act(torch.from_numpy(states).unsqueeze(0).float(), noise=1.0)\n",
    "print('#1',actions)\n",
    "actions_array = torch.argmax(actions[0],dim=1).detach().numpy()\n",
    "print('#2',actions_array)\n",
    "actions_array_prob = actions[0].detach().numpy()\n",
    "print('#3',actions_array_prob)\n",
    "\n",
    "g_actions = np.random.randint(g_action_size, size=num_g_agents)\n",
    "s_actions = actions_array.squeeze() #actions_array\n",
    "actions = dict(zip([g_brain_name, s_brain_name], \n",
    "                           [g_actions, s_actions]))\n",
    "\n",
    "env_info = env.step(actions)           # send all actions to the environment\n",
    "\n",
    "\n",
    "next_states_f = env_info[s_brain_name].vector_observations         # get next state (for each agent)\n",
    "next_states = next_states_f[:,-224:]\n",
    "#next_states = next_states/scale\n",
    "rewards = env_info[s_brain_name].rewards                         # get reward (for each agent)\n",
    "\n",
    "not_yet_shown = False\n",
    "max_100_average_score = -1\n",
    "\n",
    "noise = noise_start  # reset the initial noise value \n",
    "\n",
    "for i_episode in range(training_episods):               # train for training_episods many episodes\n",
    "    env_info = env.reset(train_mode=True)               # reset the environment    \n",
    "    noise *= noise_reduction                            # reduction across episodes...\n",
    "    \n",
    "    states_f = env_info[s_brain_name].vector_observations                  # get the current state (for each agent)\n",
    "    states = states_f[:,-224:]                          # reduce observation space\n",
    "    scores = np.zeros(num_agents)                       # initialize the score (for each agent)        \n",
    "    while True:\n",
    "        actions = maddpg.act(torch.from_numpy(states).unsqueeze(0).float(), noise=noise)\n",
    "        actions_array_prob = actions[0].detach().numpy()\n",
    "        actions_array = torch.argmax(actions[0],dim=1).detach().numpy()\n",
    "              \n",
    "            \n",
    "        if goalies_defending: \n",
    "            g_actions = np.random.randint(g_action_size, size=num_g_agents)    \n",
    "        else: ## goalie not defending ....\n",
    "            g_actions = np.random.randint(1, size=num_g_agents)+2  # 0 -> towards center , 1 towards goal, 2 right, 3 left \n",
    "        s_actions = actions_array.squeeze() #actions_array\n",
    "        actions = dict(zip([g_brain_name, s_brain_name], \n",
    "                           [g_actions, s_actions]))\n",
    "\n",
    "        env_info = env.step(actions)           # send all actions to the environment\n",
    "    \n",
    "        next_states_f = env_info[s_brain_name].vector_observations         # get next state (for each agent)\n",
    "        next_states = next_states_f[:,-224:]\n",
    "        rewards = env_info[s_brain_name].rewards                         # get reward (for each agent)\n",
    "        dones = env_info[s_brain_name].local_done                        # see if episode finished\n",
    "        scores += env_info[s_brain_name].rewards                         # update the score (for each agent)\n",
    "        \n",
    "        transition = ([states], [actions_array_prob], [rewards], [next_states], [dones])\n",
    "        buffer.push(transition)\n",
    "                           \n",
    "        # update once after every episode_per_update\n",
    "        if len(buffer) > batchsize*10 and i_episode % UPDATE_EVERY_NTH_STEP == 0:          \n",
    "            for k in range(UPDATE_MANY_EPOCHS):\n",
    "                for a_i in range(2):\n",
    "                    samples = buffer.sample(batchsize)\n",
    "                    maddpg.update(samples, a_i)\n",
    "            maddpg.update_targets() #soft update the target network towards the actual networks\n",
    "        \n",
    "        states = next_states                               # roll over states to next time step\n",
    "        if np.any(dones):                                  # exit loop if episode finished\n",
    "            break\n",
    "\n",
    "    scores_window.append(scores.max())       # save most recent score\n",
    "    scores_window_mean.append(scores.mean())       # save most recent score\n",
    "\n",
    "    if np.mean(scores_window) >= 0.5 and not_yet_shown:\n",
    "                    print('\\rEpisode {}\\tAverage Score: {:.2f}\\tScore: {:.2f}'.format(i_episode, np.mean(scores_window), scores.max()))\n",
    "                    print('Assignment -DONE-')\n",
    "                    not_yet_shown = False\n",
    "    \n",
    "    if max_100_average_score <  np.mean(scores_window):\n",
    "        max_100_average_score = np.mean(scores_window)\n",
    "    print('\\rEpisode {}\\tAverage <Score>: {:.2f}\\tAverage Max Score: {:.2f}\\tMax Score: {:.2f}\\tMax Average Max Score: {:.2f}'.format(i_episode, np.mean(scores_window_mean), np.mean(scores_window), np.max(scores_window), max_100_average_score), end=\"\")                \n",
    "    if i_episode % 50 == 0:\n",
    "        print('\\rEpisode {}\\tAverage <Score>: {:.2f}\\tAverage Max Score: {:.2f}\\tMax Score: {:.2f}\\tMax Average Max Score: {:.2f}'.format(i_episode,  np.mean(scores_window_mean), np.mean(scores_window), np.max(scores_window), max_100_average_score))        \n",
    "\n",
    "print('')\n",
    "print('Stop it...')"
   ]
  },
  {
   "cell_type": "code",
   "execution_count": 10,
   "metadata": {},
   "outputs": [],
   "source": [
    "# save the model\n",
    "model_dir= os.getcwd()+\"/model_dir\"\n",
    "os.makedirs(model_dir, exist_ok=True)\n",
    "save_dict_list =[]\n",
    "for i in range(2):\n",
    "                save_dict = {'actor_params' : maddpg.maddpg_agent[i].actor.state_dict(),\n",
    "                             'actor_optim_params': maddpg.maddpg_agent[i].actor_optimizer.state_dict(),\n",
    "                             'critic_params' : maddpg.maddpg_agent[i].critic.state_dict(),\n",
    "                             'critic_optim_params' : maddpg.maddpg_agent[i].critic_optimizer.state_dict()}\n",
    "                save_dict_list.append(save_dict)\n",
    "torch.save(save_dict_list, \n",
    "                           os.path.join(model_dir, 'StrikerOnly_Run3_episode-{}.pt'.format(i_episode)))\n",
    "\n",
    "\n",
    "save_dict_list =[]\n",
    "for i in range(2):\n",
    "                save_dict = {'actor_params' : maddpg.maddpg_agent[i].actor.state_dict(),                             \n",
    "                             'critic_params' : maddpg.maddpg_agent[i].critic.state_dict()}\n",
    "                save_dict_list.append(save_dict)\n",
    "torch.save(save_dict_list, \n",
    "                           os.path.join(model_dir, 'StrikerOnly_Run3_reduced_episode-{}.pt'.format(i_episode)))\n",
    "\n",
    "\n",
    "save_dict_list =[]\n",
    "for i in range(2):\n",
    "                save_dict = {'actor_params' : maddpg.maddpg_agent[i].actor.state_dict()}\n",
    "                save_dict_list.append(save_dict)\n",
    "torch.save(save_dict_list, \n",
    "                           os.path.join(model_dir, 'StrikerOnly_Run3_reduced_only_actor_episode-{}.pt'.format(i_episode)))\n",
    "\n",
    "\n"
   ]
  },
  {
   "cell_type": "markdown",
   "metadata": {},
   "source": [
    "# Debugging/Checking the Code Elements...."
   ]
  },
  {
   "cell_type": "code",
   "execution_count": null,
   "metadata": {},
   "outputs": [],
   "source": [
    "### DEBUG update:\n",
    "samples = buffer.sample(3)\n",
    "maddpg.update(samples, 0)"
   ]
  }
 ],
 "metadata": {
  "kernelspec": {
   "display_name": "drlnd",
   "language": "python",
   "name": "drlnd"
  },
  "language_info": {
   "codemirror_mode": {
    "name": "ipython",
    "version": 3
   },
   "file_extension": ".py",
   "mimetype": "text/x-python",
   "name": "python",
   "nbconvert_exporter": "python",
   "pygments_lexer": "ipython3",
   "version": "3.6.13"
  }
 },
 "nbformat": 4,
 "nbformat_minor": 2
}
