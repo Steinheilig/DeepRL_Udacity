{
 "cells": [
  {
   "cell_type": "markdown",
   "metadata": {},
   "source": [
    "# Deep Deterministic Policy Gradients (DDPG)\n",
    "---\n",
    "Notebook, addapted from \n",
    "https://raw.githubusercontent.com/udacity/deep-reinforcement-learning/master/ddpg-bipedal/DDPG.ipynb\n",
    "training DDPG with OpenAI Gym's BipedalWalker-v2 environment.\n",
    "\n",
    "### 1. Import the Necessary Packages"
   ]
  },
  {
   "cell_type": "code",
   "execution_count": 1,
   "metadata": {},
   "outputs": [],
   "source": [
    "import gym\n",
    "import random\n",
    "import torch\n",
    "import numpy as np\n",
    "from collections import deque\n",
    "import matplotlib.pyplot as plt\n",
    "%matplotlib inline\n",
    "\n",
    "from DDPG_Multi_agent_kthStep import Agent"
   ]
  },
  {
   "cell_type": "markdown",
   "metadata": {},
   "source": [
    "### 2. Instantiate the Environment and Agent"
   ]
  },
  {
   "cell_type": "code",
   "execution_count": 2,
   "metadata": {},
   "outputs": [],
   "source": [
    "from unityagents import UnityEnvironment\n",
    "import numpy as np\n",
    "import torch\n",
    "import torch.nn as nn\n",
    "import torch.nn.functional as F"
   ]
  },
  {
   "cell_type": "code",
   "execution_count": 3,
   "metadata": {},
   "outputs": [
    {
     "name": "stderr",
     "output_type": "stream",
     "text": [
      "INFO:unityagents:\n",
      "'Academy' started successfully!\n",
      "Unity Academy name: Academy\n",
      "        Number of Brains: 1\n",
      "        Number of External Brains : 1\n",
      "        Lesson number : 0\n",
      "        Reset Parameters :\n",
      "\t\t\n",
      "Unity brain name: TennisBrain\n",
      "        Number of Visual Observations (per agent): 0\n",
      "        Vector Observation space type: continuous\n",
      "        Vector Observation space size (per agent): 8\n",
      "        Number of stacked Vector Observation: 3\n",
      "        Vector Action space type: continuous\n",
      "        Vector Action space size (per agent): 2\n",
      "        Vector Action descriptions: , \n"
     ]
    }
   ],
   "source": [
    "no_graphics=True\n",
    "#no_graphics=False\n",
    "\n",
    "## env = UnityEnvironment(file_name='C:\\EigeneLokaleDaten\\DeepRL\\Value-based-methods\\p2_continuous-control\\Reacher_Windows_x86_64_multiple_agents\\Reacher.exe')\n",
    "\n",
    "# select this option to load version 2 (with 20 agents) of the environment\n",
    "#env = UnityEnvironment(file_name='/data/Reacher_Linux_NoVis/Reacher.x86_64')\n",
    "env = UnityEnvironment(file_name='C:\\EigeneLokaleDaten\\DeepRL\\Value-based-methods\\p3_collab-compet\\Tennis_Windows_x86_64\\Tennis.exe',no_graphics=no_graphics)"
   ]
  },
  {
   "cell_type": "code",
   "execution_count": 4,
   "metadata": {},
   "outputs": [],
   "source": [
    "# get the default brain\n",
    "brain_name = env.brain_names[0]\n",
    "brain = env.brains[brain_name]"
   ]
  },
  {
   "cell_type": "code",
   "execution_count": 6,
   "metadata": {},
   "outputs": [
    {
     "name": "stdout",
     "output_type": "stream",
     "text": [
      "Number of agents: 2\n",
      "Size of each action: 2\n",
      "There are 2 agents. Each observes a state with length: 24\n",
      "The state for the first agent looks like: [ 0.          0.          0.          0.          0.          0.\n",
      "  0.          0.          0.          0.          0.          0.\n",
      "  0.          0.          0.          0.         -6.65278625 -1.5\n",
      " -0.          0.          6.83172083  6.         -0.          0.        ]\n",
      "The state for the 2nd agent looks like: [ 0.          0.          0.          0.          0.          0.\n",
      "  0.          0.          0.          0.          0.          0.\n",
      "  0.          0.          0.          0.         -6.4669857  -1.5\n",
      "  0.          0.         -6.83172083  6.          0.          0.        ]\n",
      "24\n",
      "2\n"
     ]
    }
   ],
   "source": [
    "# reset the environment\n",
    "env_info = env.reset(train_mode=True)[brain_name]\n",
    "\n",
    "# number of agents\n",
    "num_agents = len(env_info.agents)\n",
    "print('Number of agents:', num_agents)\n",
    "\n",
    "# size of each action\n",
    "action_size = brain.vector_action_space_size\n",
    "print('Size of each action:', action_size)\n",
    "\n",
    "# examine the state space \n",
    "states = env_info.vector_observations\n",
    "state_size = states.shape[1]\n",
    "print('There are {} agents. Each observes a state with length: {}'.format(states.shape[0], state_size))\n",
    "print('The state for the first agent looks like:', states[0])\n",
    "print('The state for the 2nd agent looks like:', states[1])\n",
    "\n",
    "print(state_size)\n",
    "print(len(states))"
   ]
  },
  {
   "cell_type": "code",
   "execution_count": 7,
   "metadata": {},
   "outputs": [
    {
     "name": "stdout",
     "output_type": "stream",
     "text": [
      "Hyperparams 1000000 128 0.99 0.001 0.0001 0.001 0 new update 30 20\n",
      "Hyperparams Noise 0.0 0.15 0.2\n"
     ]
    }
   ],
   "source": [
    "NN_architecture = None # default 256,256,256,128\n",
    "#NN_architecture = [64,64,32,16]  # actor_fc, critic_fc1,critic_fc2,critic_fc3\n",
    "#NN_architecture = [16,32,16,8]  # actor_fc, critic_fc1,critic_fc2,critic_fc3\n",
    "\n",
    "agent = Agent(state_size=env_info.vector_observations.shape[1], action_size=brain.vector_action_space_size, random_seed=10, NN_architecture=NN_architecture)"
   ]
  },
  {
   "cell_type": "code",
   "execution_count": 8,
   "metadata": {},
   "outputs": [
    {
     "name": "stdout",
     "output_type": "stream",
     "text": [
      "[0.06329875 0.0195394 ]\n",
      "[0.05057339 0.01870034]\n"
     ]
    }
   ],
   "source": [
    "print(agent.act(states[0],add_noise=False))\n",
    "print(agent.act(states[1],add_noise=False))\n",
    "#print(agent.act(states[2],add_noise=False))"
   ]
  },
  {
   "cell_type": "markdown",
   "metadata": {},
   "source": [
    "### 3. Train the Agent with DDPG\n",
    "\n",
    "Run the code cell below to train the agent from scratch.  Alternatively, you can skip to the next code cell to load the pre-trained weights from file."
   ]
  },
  {
   "cell_type": "code",
   "execution_count": 9,
   "metadata": {},
   "outputs": [
    {
     "name": "stdout",
     "output_type": "stream",
     "text": [
      "using device:  cpu\n"
     ]
    }
   ],
   "source": [
    "device = torch.device(\"cuda:0\" if torch.cuda.is_available() else \"cpu\")\n",
    "print(\"using device: \",device)"
   ]
  },
  {
   "cell_type": "code",
   "execution_count": 10,
   "metadata": {},
   "outputs": [
    {
     "name": "stdout",
     "output_type": "stream",
     "text": [
      "[21 30 30 30 30 30 30 30 30 30 30 23 23 23 30  8 12 14 30 30 30 30 30 30]\n",
      "[ 0.          0.          0.          0.          0.          0.\n",
      "  0.          0.          0.          0.          0.          0.\n",
      "  0.          0.          0.          0.         -6.65278625 -1.5\n",
      " -0.          0.          6.83172083  6.         -0.          0.        ]\n",
      "[ 0.          0.          0.          0.          0.          0.\n",
      "  0.          0.          0.          0.          0.          0.\n",
      "  0.          0.          0.          0.         -0.55439885 -0.10714286\n",
      " -0.          0.          0.22772403  0.2        -0.          0.        ]\n",
      "[0.05703903 0.01734038]\n",
      "[0.05646411 0.01745478]\n",
      "[[0.05703903 0.01734038]\n",
      " [0.05646411 0.01745478]]\n"
     ]
    }
   ],
   "source": [
    "data = np.load('state_scale.npz')\n",
    "scale = data['scale_int']\n",
    "print(scale)\n",
    "\n",
    "\n",
    "print(states[0])\n",
    "print(states[0]/scale)\n",
    "\n",
    "env_info = env.reset(train_mode=True)[brain_name]     # reset the environment    \n",
    "states = env_info.vector_observations                  # get the current state (for each agent)\n",
    "\n",
    "action = agent.act(states[0]/scale,add_noise=False) \n",
    "action2 = agent.act(states[1]/scale,add_noise=False) \n",
    "actions = agent.act(states/scale,add_noise=False) \n",
    "\n",
    "print(action)\n",
    "print(action2)\n",
    "print(actions[0:2])"
   ]
  },
  {
   "cell_type": "code",
   "execution_count": 11,
   "metadata": {},
   "outputs": [],
   "source": [
    "load_weights = False\n",
    "if load_weights:\n",
    "    # load weights after system crashed again :(\n",
    "    # load weights from last checkpoint\n",
    "    NN_architecture = None\n",
    "    Noise_params = None # default 0.0 0.15 0.2\n",
    "    rnd_seed = 42\n",
    "    #torch.save(agent.critic_local.state_dict(), 'checkpoint_critic.pth')\n",
    "    agent = Agent(state_size=env_info.vector_observations.shape[1], action_size=brain.vector_action_space_size, random_seed=rnd_seed, NN_architecture=NN_architecture)\n",
    "    agent.critic_local.load_state_dict(torch.load('Multi_checkpoint_critic.pth'))\n",
    "    agent.critic_target.load_state_dict(torch.load('Multi_checkpoint_critic.pth'))\n",
    "    agent.actor_local.load_state_dict(torch.load('Multi_checkpoint_actor.pth'))\n",
    "    agent.actor_target.load_state_dict(torch.load('Multi_checkpoint_actor.pth'))\n",
    "    #https://knowledge.udacity.com/questions/805381"
   ]
  },
  {
   "cell_type": "code",
   "execution_count": 12,
   "metadata": {},
   "outputs": [],
   "source": [
    "states = env_info.vector_observations  \n",
    "rewards = env_info.rewards                         # get reward (for each agent)# get the current state (for each agent)\n",
    "next_states = env_info.vector_observations         # get next state (for each agent)   \n",
    "dones = env_info.local_done                        # see if episode finished\n",
    "agent.step(states[0], action, rewards[0], next_states[0], dones[0])"
   ]
  },
  {
   "cell_type": "code",
   "execution_count": 13,
   "metadata": {},
   "outputs": [
    {
     "name": "stdout",
     "output_type": "stream",
     "text": [
      "hey ho - lets go\n",
      "Hyperparams 1000000 128 0.99 0.001 0.0001 0.001 0 new update 30 20\n",
      "Hyperparams Noise 0.0 0.15 0.2\n",
      "Start training from scratch\n",
      "using device:  cpu\n",
      "Network: None\n",
      "load state scaling\n",
      "add_noise to state True\n",
      "Noise_params: None\n",
      "Episode 4\tAverage Score: 0.00\tScore: 0.00"
     ]
    },
    {
     "name": "stderr",
     "output_type": "stream",
     "text": [
      "c:\\EigeneLokaleDaten\\DeepRL\\Value-based-methods\\p3_collab_compet_DDPG\\DDPG_Multi_agent_kthStep.py:163: UserWarning: torch.nn.utils.clip_grad_norm is now deprecated in favor of torch.nn.utils.clip_grad_norm_.\n",
      "  torch.nn.utils.clip_grad_norm(self.critic_local.parameters(), 1)   # take advise from Attempt 3 / Udacity Course\n"
     ]
    },
    {
     "name": "stdout",
     "output_type": "stream",
     "text": [
      "Episode 500\tAverage Score: 0.00\tScore: 0.00\n",
      "Episode 1000\tAverage Score: 0.17\tScore: 0.00\n",
      "Episode 1500\tAverage Score: 0.08\tScore: 0.10\n",
      "Episode 2000\tAverage Score: 0.11\tScore: 0.10\n",
      "Episode 2500\tAverage Score: 0.32\tScore: 0.30\n",
      "Episode 3000\tAverage Score: 0.11\tScore: 0.10\n",
      "Episode 3500\tAverage Score: 0.12\tScore: 0.10\n",
      "Episode 3800\tAverage Score: 0.50\tScore: 0.30\n",
      "Assignment -DONE-\n",
      "Episode 4000\tAverage Score: 0.22\tScore: 0.30\n",
      "Episode 4500\tAverage Score: 0.17\tScore: 0.10\n",
      "Episode 5000\tAverage Score: 0.17\tScore: 0.10\n",
      "Episode 5500\tAverage Score: 0.32\tScore: 0.10\n",
      "Episode 6000\tAverage Score: 0.29\tScore: 0.20\n",
      "Episode 6438\tAverage Score: 0.14\tScore: 0.20"
     ]
    },
    {
     "ename": "KeyboardInterrupt",
     "evalue": "",
     "output_type": "error",
     "traceback": [
      "\u001b[1;31m---------------------------------------------------------------------------\u001b[0m",
      "\u001b[1;31mKeyboardInterrupt\u001b[0m                         Traceback (most recent call last)",
      "\u001b[1;32m<ipython-input-13-97fb391ce920>\u001b[0m in \u001b[0;36m<module>\u001b[1;34m\u001b[0m\n\u001b[0;32m     99\u001b[0m     \u001b[1;32mreturn\u001b[0m \u001b[0mscores\u001b[0m\u001b[1;33m\u001b[0m\u001b[1;33m\u001b[0m\u001b[0m\n\u001b[0;32m    100\u001b[0m \u001b[1;33m\u001b[0m\u001b[0m\n\u001b[1;32m--> 101\u001b[1;33m \u001b[0mscores\u001b[0m \u001b[1;33m=\u001b[0m \u001b[0mddpg\u001b[0m\u001b[1;33m(\u001b[0m\u001b[1;33m)\u001b[0m\u001b[1;33m\u001b[0m\u001b[1;33m\u001b[0m\u001b[0m\n\u001b[0m\u001b[0;32m    102\u001b[0m \u001b[1;33m\u001b[0m\u001b[0m\n\u001b[0;32m    103\u001b[0m \u001b[0mfig\u001b[0m \u001b[1;33m=\u001b[0m \u001b[0mplt\u001b[0m\u001b[1;33m.\u001b[0m\u001b[0mfigure\u001b[0m\u001b[1;33m(\u001b[0m\u001b[1;33m)\u001b[0m\u001b[1;33m\u001b[0m\u001b[1;33m\u001b[0m\u001b[0m\n",
      "\u001b[1;32m<ipython-input-13-97fb391ce920>\u001b[0m in \u001b[0;36mddpg\u001b[1;34m(n_episodes, max_t)\u001b[0m\n\u001b[0;32m     74\u001b[0m             \u001b[1;31m### -> agent.step(states[0]/scale, action, rewards[0], next_states[0]/scale, dones[0])\u001b[0m\u001b[1;33m\u001b[0m\u001b[1;33m\u001b[0m\u001b[1;33m\u001b[0m\u001b[0m\n\u001b[0;32m     75\u001b[0m             \u001b[1;32mfor\u001b[0m \u001b[0mstate\u001b[0m\u001b[1;33m,\u001b[0m \u001b[0maction\u001b[0m\u001b[1;33m,\u001b[0m \u001b[0mreward\u001b[0m\u001b[1;33m,\u001b[0m \u001b[0mnext_state\u001b[0m\u001b[1;33m,\u001b[0m \u001b[0mdone\u001b[0m \u001b[1;32min\u001b[0m \u001b[0mzip\u001b[0m\u001b[1;33m(\u001b[0m\u001b[0mstates\u001b[0m\u001b[1;33m,\u001b[0m \u001b[0mactions\u001b[0m\u001b[1;33m,\u001b[0m \u001b[0mrewards\u001b[0m\u001b[1;33m,\u001b[0m \u001b[0mnext_states\u001b[0m\u001b[1;33m,\u001b[0m \u001b[0mdones\u001b[0m\u001b[1;33m)\u001b[0m\u001b[1;33m:\u001b[0m\u001b[1;33m\u001b[0m\u001b[1;33m\u001b[0m\u001b[0m\n\u001b[1;32m---> 76\u001b[1;33m                 \u001b[0magent\u001b[0m\u001b[1;33m.\u001b[0m\u001b[0mstep\u001b[0m\u001b[1;33m(\u001b[0m\u001b[0mstate\u001b[0m\u001b[1;33m,\u001b[0m \u001b[0maction\u001b[0m\u001b[1;33m,\u001b[0m \u001b[0mreward\u001b[0m\u001b[1;33m,\u001b[0m \u001b[0mnext_state\u001b[0m\u001b[1;33m,\u001b[0m \u001b[0mdone\u001b[0m\u001b[1;33m)\u001b[0m\u001b[1;33m\u001b[0m\u001b[1;33m\u001b[0m\u001b[0m\n\u001b[0m\u001b[0;32m     77\u001b[0m             \u001b[0mstates\u001b[0m \u001b[1;33m=\u001b[0m \u001b[0mnext_states\u001b[0m\u001b[1;33m\u001b[0m\u001b[1;33m\u001b[0m\u001b[0m\n\u001b[0;32m     78\u001b[0m             \u001b[0mscore\u001b[0m \u001b[1;33m+=\u001b[0m \u001b[0mnp\u001b[0m\u001b[1;33m.\u001b[0m\u001b[0mmax\u001b[0m\u001b[1;33m(\u001b[0m\u001b[0mrewards\u001b[0m\u001b[1;33m)\u001b[0m\u001b[1;33m\u001b[0m\u001b[1;33m\u001b[0m\u001b[0m\n",
      "\u001b[1;32mc:\\EigeneLokaleDaten\\DeepRL\\Value-based-methods\\p3_collab_compet_DDPG\\DDPG_Multi_agent_kthStep.py\u001b[0m in \u001b[0;36mstep\u001b[1;34m(self, state, action, reward, next_state, done)\u001b[0m\n\u001b[0;32m    117\u001b[0m             \u001b[1;32mfor\u001b[0m \u001b[0mepoch\u001b[0m \u001b[1;32min\u001b[0m \u001b[0mrange\u001b[0m\u001b[1;33m(\u001b[0m\u001b[0mUPDATE_MANY_EPOCHS\u001b[0m\u001b[1;33m)\u001b[0m\u001b[1;33m:\u001b[0m\u001b[1;33m\u001b[0m\u001b[1;33m\u001b[0m\u001b[0m\n\u001b[0;32m    118\u001b[0m                 \u001b[0mexperiences\u001b[0m \u001b[1;33m=\u001b[0m \u001b[0mself\u001b[0m\u001b[1;33m.\u001b[0m\u001b[0mmemory\u001b[0m\u001b[1;33m.\u001b[0m\u001b[0msample\u001b[0m\u001b[1;33m(\u001b[0m\u001b[1;33m)\u001b[0m\u001b[1;33m\u001b[0m\u001b[1;33m\u001b[0m\u001b[0m\n\u001b[1;32m--> 119\u001b[1;33m                 \u001b[0mself\u001b[0m\u001b[1;33m.\u001b[0m\u001b[0mlearn\u001b[0m\u001b[1;33m(\u001b[0m\u001b[0mexperiences\u001b[0m\u001b[1;33m,\u001b[0m \u001b[0mGAMMA\u001b[0m\u001b[1;33m)\u001b[0m\u001b[1;33m\u001b[0m\u001b[1;33m\u001b[0m\u001b[0m\n\u001b[0m\u001b[0;32m    120\u001b[0m \u001b[1;33m\u001b[0m\u001b[0m\n\u001b[0;32m    121\u001b[0m \u001b[1;33m\u001b[0m\u001b[0m\n",
      "\u001b[1;32mc:\\EigeneLokaleDaten\\DeepRL\\Value-based-methods\\p3_collab_compet_DDPG\\DDPG_Multi_agent_kthStep.py\u001b[0m in \u001b[0;36mlearn\u001b[1;34m(self, experiences, gamma)\u001b[0m\n\u001b[0;32m    175\u001b[0m \u001b[1;33m\u001b[0m\u001b[0m\n\u001b[0;32m    176\u001b[0m         \u001b[1;31m# ----------------------- update target networks ----------------------- #\u001b[0m\u001b[1;33m\u001b[0m\u001b[1;33m\u001b[0m\u001b[1;33m\u001b[0m\u001b[0m\n\u001b[1;32m--> 177\u001b[1;33m         \u001b[0mself\u001b[0m\u001b[1;33m.\u001b[0m\u001b[0msoft_update\u001b[0m\u001b[1;33m(\u001b[0m\u001b[0mself\u001b[0m\u001b[1;33m.\u001b[0m\u001b[0mcritic_local\u001b[0m\u001b[1;33m,\u001b[0m \u001b[0mself\u001b[0m\u001b[1;33m.\u001b[0m\u001b[0mcritic_target\u001b[0m\u001b[1;33m,\u001b[0m \u001b[0mTAU\u001b[0m\u001b[1;33m)\u001b[0m\u001b[1;33m\u001b[0m\u001b[1;33m\u001b[0m\u001b[0m\n\u001b[0m\u001b[0;32m    178\u001b[0m         \u001b[0mself\u001b[0m\u001b[1;33m.\u001b[0m\u001b[0msoft_update\u001b[0m\u001b[1;33m(\u001b[0m\u001b[0mself\u001b[0m\u001b[1;33m.\u001b[0m\u001b[0mactor_local\u001b[0m\u001b[1;33m,\u001b[0m \u001b[0mself\u001b[0m\u001b[1;33m.\u001b[0m\u001b[0mactor_target\u001b[0m\u001b[1;33m,\u001b[0m \u001b[0mTAU\u001b[0m\u001b[1;33m)\u001b[0m\u001b[1;33m\u001b[0m\u001b[1;33m\u001b[0m\u001b[0m\n\u001b[0;32m    179\u001b[0m \u001b[1;33m\u001b[0m\u001b[0m\n",
      "\u001b[1;32mc:\\EigeneLokaleDaten\\DeepRL\\Value-based-methods\\p3_collab_compet_DDPG\\DDPG_Multi_agent_kthStep.py\u001b[0m in \u001b[0;36msoft_update\u001b[1;34m(self, local_model, target_model, tau)\u001b[0m\n\u001b[0;32m    189\u001b[0m         \"\"\"\n\u001b[0;32m    190\u001b[0m         \u001b[1;32mfor\u001b[0m \u001b[0mtarget_param\u001b[0m\u001b[1;33m,\u001b[0m \u001b[0mlocal_param\u001b[0m \u001b[1;32min\u001b[0m \u001b[0mzip\u001b[0m\u001b[1;33m(\u001b[0m\u001b[0mtarget_model\u001b[0m\u001b[1;33m.\u001b[0m\u001b[0mparameters\u001b[0m\u001b[1;33m(\u001b[0m\u001b[1;33m)\u001b[0m\u001b[1;33m,\u001b[0m \u001b[0mlocal_model\u001b[0m\u001b[1;33m.\u001b[0m\u001b[0mparameters\u001b[0m\u001b[1;33m(\u001b[0m\u001b[1;33m)\u001b[0m\u001b[1;33m)\u001b[0m\u001b[1;33m:\u001b[0m\u001b[1;33m\u001b[0m\u001b[1;33m\u001b[0m\u001b[0m\n\u001b[1;32m--> 191\u001b[1;33m             \u001b[0mtarget_param\u001b[0m\u001b[1;33m.\u001b[0m\u001b[0mdata\u001b[0m\u001b[1;33m.\u001b[0m\u001b[0mcopy_\u001b[0m\u001b[1;33m(\u001b[0m\u001b[0mtau\u001b[0m\u001b[1;33m*\u001b[0m\u001b[0mlocal_param\u001b[0m\u001b[1;33m.\u001b[0m\u001b[0mdata\u001b[0m \u001b[1;33m+\u001b[0m \u001b[1;33m(\u001b[0m\u001b[1;36m1.0\u001b[0m\u001b[1;33m-\u001b[0m\u001b[0mtau\u001b[0m\u001b[1;33m)\u001b[0m\u001b[1;33m*\u001b[0m\u001b[0mtarget_param\u001b[0m\u001b[1;33m.\u001b[0m\u001b[0mdata\u001b[0m\u001b[1;33m)\u001b[0m\u001b[1;33m\u001b[0m\u001b[1;33m\u001b[0m\u001b[0m\n\u001b[0m\u001b[0;32m    192\u001b[0m \u001b[1;33m\u001b[0m\u001b[0m\n\u001b[0;32m    193\u001b[0m \u001b[1;32mclass\u001b[0m \u001b[0mOUNoise\u001b[0m\u001b[1;33m:\u001b[0m\u001b[1;33m\u001b[0m\u001b[1;33m\u001b[0m\u001b[0m\n",
      "\u001b[1;31mKeyboardInterrupt\u001b[0m: "
     ]
    }
   ],
   "source": [
    "print('hey ho - lets go')\n",
    "#NN_architecture = [64,64,32,16]  # actor_fc, critic_fc1, critic_fc2, critic_fc3\n",
    "#NN_architecture = [64,64,32,16]  # actor_fc, critic_fc1, critic_fc2, critic_fc3\n",
    "NN_architecture = None  # default 256,256,256,128\n",
    "\n",
    "#Noise_params = [0.0,0.03,0.03]\n",
    "Noise_params = None # default 0.0 0.15 0.2\n",
    "\n",
    "rnd_seed = 42\n",
    "\n",
    "agent = Agent(state_size=env_info.vector_observations.shape[1], action_size=brain.vector_action_space_size, random_seed=rnd_seed, NN_architecture=NN_architecture, Noise_params=Noise_params, ReLU=True)\n",
    "\n",
    "\n",
    "\n",
    "load_weights = False\n",
    "\n",
    "if load_weights:\n",
    "    print('weights loaded from last checkpoint')\n",
    "    agent.critic_local.load_state_dict(torch.load('Multi_checkpoint_critic_2nd.pth'))\n",
    "    agent.critic_target.load_state_dict(torch.load('Multi_checkpoint_critic_2nd.pth'))\n",
    "    agent.actor_local.load_state_dict(torch.load('Multi_checkpoint_actor_2nd.pth'))\n",
    "    agent.actor_target.load_state_dict(torch.load('Multi_checkpoint_actor_2nd.pth'))      \n",
    "    '''\n",
    "    # load 20 agent - every step update 250 steps checkpoint as start - CPU / own PC \n",
    "    # differnt PyTorch version - problems to load checkpoitn :( \n",
    "    agent.actor_local.load_state_dict(torch.load('checkpoint_actor_250.pth'))\n",
    "    agent.actor_target.load_state_dict(torch.load('checkpoint_actor_250.pth'))\n",
    "    agent.critic_local.load_state_dict(torch.load('checkpoint_critic_250.pth'))\n",
    "    agent.critic_target.load_state_dict(torch.load('checkpoint_critic_250.pth'))        \n",
    "    '''\n",
    "else:\n",
    "    print('Start training from scratch')\n",
    "    \n",
    "\n",
    "print(\"using device: \",device)\n",
    "print('Network:',NN_architecture)\n",
    "do_scaling = True\n",
    "if do_scaling:\n",
    "    print('load state scaling')\n",
    "    data = np.load('state_scale.npz')\n",
    "    #scale = data['scale_int']\n",
    "    scale = data['scale']\n",
    "else:\n",
    "    scale = np.ones(33,)\n",
    "\n",
    "add_noise2state = True\n",
    "print('add_noise to state',add_noise2state)\n",
    "if add_noise2state:\n",
    "    print('Noise_params:',Noise_params)\n",
    "\n",
    "def ddpg(n_episodes=10000, max_t=999):  # 2000 / 700\n",
    "    not_yet_shown = True\n",
    "    scores_deque = deque(maxlen=100)\n",
    "    scores = []\n",
    "    max_score = -np.Inf\n",
    "    for i_episode in range(1, n_episodes+1):                        \n",
    "        env_info = env.reset(train_mode=True)[brain_name]     # reset the environment    \n",
    "        states = env_info.vector_observations                  # get the current state (for each agent)\n",
    "        #state = states[0]/scale\n",
    "        states = states/scale\n",
    "        agent.reset()  # noise reset....\n",
    "        score = 0\n",
    "        #############\n",
    "        for t in range(max_t):\n",
    "            actions = agent.act(states,add_noise=add_noise2state)      \n",
    "            #print('t:',action)\n",
    "            env_info = env.step(actions)[brain_name]           # send all action to Env\n",
    "            next_states = env_info.vector_observations         # get next state (for each agent)   \n",
    "            next_states = next_states/scale\n",
    "            rewards = env_info.rewards                         # get reward (for each agent)\n",
    "            dones = env_info.local_done                        # see if episode finished\n",
    "            \n",
    "            #next_state, reward, done, _ = env.step(action)                                    \n",
    "            ### -> agent.step(states[0]/scale, action, rewards[0], next_states[0]/scale, dones[0])\n",
    "            for state, action, reward, next_state, done in zip(states, actions, rewards, next_states, dones):\n",
    "                agent.step(state, action, reward, next_state, done)\n",
    "            states = next_states\n",
    "            score += np.max(rewards)\n",
    "            #if np.any(dones==True):\n",
    "            if np.any(dones):\n",
    "                #print('SHOULD NEVER BE REACHED...')\n",
    "                #assert 1==0\n",
    "                break \n",
    "        scores_deque.append(score)\n",
    "        scores.append(score)\n",
    "        print('\\rEpisode {}\\tAverage Score: {:.2f}\\tScore: {:.2f}'.format(i_episode, np.mean(scores_deque), score), end=\"\")\n",
    "        if np.mean(scores_deque) >= 0.5 and not_yet_shown:\n",
    "                    print('\\rEpisode {}\\tAverage Score: {:.2f}\\tScore: {:.2f}'.format(i_episode, np.mean(scores_deque), score))\n",
    "                    print('Assignment -DONE-')\n",
    "                    not_yet_shown = False\n",
    "        if i_episode % 500 == 0:\n",
    "            torch.save(agent.actor_local.state_dict(), 'Multi_checkpoint_actor_30_20_local.pth')\n",
    "            torch.save(agent.critic_local.state_dict(), 'Multi_checkpoint_critic_30_20_local.pth')\n",
    "            torch.save(agent.actor_target.state_dict(), 'Multi_checkpoint_actor_30_20_target.pth')\n",
    "            torch.save(agent.critic_target.state_dict(), 'Multi_checkpoint_critic_30_20_target.pth')\n",
    "            print('\\rEpisode {}\\tAverage Score: {:.2f}'.format(i_episode, np.mean(scores_deque)))   \n",
    "            # average max score of +.5 over 100 consecutive episodes\n",
    "\n",
    "    return scores\n",
    "\n",
    "scores = ddpg()\n",
    "\n",
    "fig = plt.figure()\n",
    "ax = fig.add_subplot(111)\n",
    "plt.plot(np.arange(1, len(scores)+1), scores)\n",
    "plt.ylabel('Score')\n",
    "plt.xlabel('Episode #')\n",
    "plt.show()"
   ]
  },
  {
   "cell_type": "code",
   "execution_count": null,
   "metadata": {},
   "outputs": [],
   "source": [
    "env_info = env.reset(train_mode=True)[brain_name]     # reset the environment    \n",
    "states = env_info.vector_observations                  # get the current state (for each agent)\n",
    "action = agent.act(states[0]/scale) \n",
    "print(states[0]/scale)\n",
    "print(states[0])\n",
    "print(action)"
   ]
  },
  {
   "cell_type": "code",
   "execution_count": 23,
   "metadata": {},
   "outputs": [
    {
     "data": {
      "text/plain": [
       "True"
      ]
     },
     "execution_count": 23,
     "metadata": {},
     "output_type": "execute_result"
    }
   ],
   "source": [
    "not_yet_shown"
   ]
  },
  {
   "cell_type": "code",
   "execution_count": null,
   "metadata": {},
   "outputs": [],
   "source": [
    "# some random agent - determine length of episodes...\n",
    "done_mean = []\n",
    "score_mean = []\n",
    "states_mean = []\n",
    "for runs in range(100):\n",
    "    env_info = env.reset(train_mode=True)[brain_name]      # reset the environment    \n",
    "    states = env_info.vector_observations                  # get the current state (for each agent)\n",
    "    scores = np.zeros(num_agents)                          # initialize the score (for each agent)\n",
    "    jj = 0 \n",
    "    while True:\n",
    "        jj += 1 \n",
    "        actions = np.random.randn(num_agents, action_size) # select an action (for each agent)\n",
    "        actions = np.clip(actions, -1, 1)                  # all actions between -1 and 1\n",
    "        env_info = env.step(actions)[brain_name]           # send all actions to tne environment\n",
    "        next_states = env_info.vector_observations         # get next state (for each agent)\n",
    "        rewards = env_info.rewards                         # get reward (for each agent)\n",
    "        dones = env_info.local_done                        # see if episode finished\n",
    "        scores += env_info.rewards                         # update the score (for each agent)\n",
    "        states = next_states                               # roll over states to next time step\n",
    "        states_mean.append(states[0])\n",
    "        if np.any(dones):                                  # exit loop if episode finished\n",
    "            #print(jj,'steps before done')\n",
    "            done_mean.append(jj)\n",
    "            break        \n",
    "    #print(runs,'Total score (averaged over agents) this episode: {}'.format(np.mean(scores)))\n",
    "    score_mean.append(np.mean(scores))"
   ]
  },
  {
   "cell_type": "code",
   "execution_count": null,
   "metadata": {},
   "outputs": [],
   "source": [
    "print('<score>',np.mean(score_mean),'+/-',np.std(score_mean))\n",
    "print('<done steps>',np.mean(done_mean),'+/-',np.std(done_mean))\n",
    "print(states_mean[0].shape)\n",
    "print(len(states_mean))\n",
    "print(states_mean[10010-1])\n",
    "states_np = np.array(states_mean)\n",
    "\n",
    "s=0\n",
    "print(np.argmax(states_np[:,s]))\n",
    "print(states_mean[np.argmax(states_np[:,s])])\n",
    "print(states_np.shape)"
   ]
  },
  {
   "cell_type": "code",
   "execution_count": 46,
   "metadata": {},
   "outputs": [
    {
     "name": "stdout",
     "output_type": "stream",
     "text": [
      "state  0 min/max scaling: -4.020280838012695 4.010631561279297 \t\t\t-> -1.0 0.997599850079586\n",
      "state  1 min/max scaling: -4.006692409515381 1.8407402038574219 \t\t\t-> -1.0 0.4594164002921462\n",
      "state  2 min/max scaling: -3.9615864753723145 4.008120059967041 \t\t\t-> -0.9883901719762583 1.0\n",
      "state  3 min/max scaling: -0.1462584137916565 1.0 \t\t\t-> -0.1462584137916565 1.0\n",
      "state  4 min/max scaling: -0.6754260659217834 0.6729655265808105 \t\t\t-> -1.0 0.9963570559901106\n",
      "state  5 min/max scaling: -0.70906001329422 0.9998599886894226 \t\t\t-> -0.7091593036177276 1.0\n",
      "state  6 min/max scaling: -0.743294358253479 0.8522251844406128 \t\t\t-> -0.8721807003877334 1.0\n",
      "state  7 min/max scaling: -10.913050651550293 9.352399826049805 \t\t\t-> -1.0 0.8569922494331331\n",
      "state  8 min/max scaling: -2.058267831802368 1.7443766593933105 \t\t\t-> -1.0 0.8474974113868399\n",
      "state  9 min/max scaling: -3.3310513496398926 3.4418137073516846 \t\t\t-> -0.9678186075338114 1.0\n",
      "state  10 min/max scaling: -13.723333358764648 13.842732429504395 \t\t\t-> -0.9913746024242108 1.0\n",
      "state  11 min/max scaling: -8.556180000305176 9.515716552734375 \t\t\t-> -0.8991629745262354 1.0\n",
      "state  12 min/max scaling: -13.312379837036133 13.861106872558594 \t\t\t-> -0.9604124662938139 1.0\n",
      "state  13 min/max scaling: -9.924531936645508 9.662307739257812 \t\t\t-> -1.0 0.9735781799019202\n",
      "state  14 min/max scaling: -10.013596534729004 3.566582202911377 \t\t\t-> -1.0 0.3561739471469427\n",
      "state  15 min/max scaling: -9.824626922607422 9.813011169433594 \t\t\t-> -1.0 0.9988176901509512\n",
      "state  16 min/max scaling: -0.9999684691429138 1.0 \t\t\t-> -0.9999684691429138 1.0\n",
      "state  17 min/max scaling: -0.9952923655509949 0.9967336654663086 \t\t\t-> -0.9985539768894638 1.0\n",
      "state  18 min/max scaling: -0.9999875426292419 0.9998026490211487 \t\t\t-> -1.0 0.9998151040885899\n",
      "state  19 min/max scaling: -0.9958579540252686 0.9997009038925171 \t\t\t-> -0.9961559003775176 1.0\n",
      "state  20 min/max scaling: -11.612460136413574 9.23630428314209 \t\t\t-> -1.0 0.7953787719950491\n",
      "state  21 min/max scaling: -8.33539867401123 8.719366073608398 \t\t\t-> -0.95596383999069 1.0\n",
      "state  22 min/max scaling: -7.061477184295654 6.584165573120117 \t\t\t-> -1.0 0.9324062658961708\n",
      "state  23 min/max scaling: -17.99956512451172 17.969680786132812 \t\t\t-> -1.0 0.9983397188669736\n",
      "state  24 min/max scaling: -18.82526397705078 19.194408416748047 \t\t\t-> -0.9807681262333061 1.0\n",
      "state  25 min/max scaling: -16.364013671875 16.9943904876709 \t\t\t-> -0.9629067711340854 1.0\n",
      "state  26 min/max scaling: -8.0 8.0 \t\t\t-> -1.0 1.0\n",
      "state  27 min/max scaling: -1.0 -1.0 \t\t\t-> -1.0 -1.0\n",
      "state  28 min/max scaling: -8.0 8.0 \t\t\t-> -1.0 1.0\n",
      "state  29 min/max scaling: 0.0 0.0 \t\t\t-> nan nan\n",
      "state  30 min/max scaling: 1.0 1.0 \t\t\t-> 1.0 1.0\n",
      "state  31 min/max scaling: 0.0 0.0 \t\t\t-> nan nan\n",
      "state  32 min/max scaling: -0.9637272357940674 0.9691858291625977 \t\t\t-> -0.9943678568090016 1.0\n"
     ]
    },
    {
     "name": "stderr",
     "output_type": "stream",
     "text": [
      "C:\\ProgramData\\Anaconda3\\envs\\drlnd\\lib\\site-packages\\ipykernel_launcher.py:11: RuntimeWarning: invalid value encountered in double_scalars\n",
      "  # This is added back by InteractiveShellApp.init_path()\n"
     ]
    }
   ],
   "source": [
    "state = states_np[0]\n",
    "dx = np.zeros(state.shape[0])\n",
    "for s in range(state.shape[0]):\n",
    "    if np.min(states_np[:][s]) > 0: \n",
    "        dx[s] = np.max(states_np[:,s])\n",
    "    else:\n",
    "        if np.abs(np.max(states_np[:,s])) > np.abs(np.min(states_np[:,s])):\n",
    "            dx[s] = np.abs(np.max(states_np[:,s]))\n",
    "        else:\n",
    "            dx[s] = np.abs(np.min(states_np[:,s]))\n",
    "    print('state ',s,'min/max scaling:',np.min(states_np[:,s]),np.max(states_np[:,s]),'\\t\\t\\t->',np.min(states_np[:,s])/dx[s],np.max(states_np[:,s])/dx[s])\n",
    "    #print('state ',s,':',dx[s])\n"
   ]
  },
  {
   "cell_type": "code",
   "execution_count": 82,
   "metadata": {},
   "outputs": [
    {
     "name": "stdout",
     "output_type": "stream",
     "text": [
      "[ 4.02028084  4.00669241  4.00812006  1.          1.          1.\n",
      "  1.         10.91305065  2.05826783  3.44181371 13.84273243  9.51571655\n",
      " 13.86110687  9.92453194 10.01359653  9.82462692  1.          1.\n",
      "  1.          1.         11.61246014  8.71936607  7.06147718 17.99956512\n",
      " 19.19440842 16.99439049  8.          1.          8.          1.\n",
      "  1.          1.          1.        ]\n",
      "[ 5  5  5  1  1  1  1 11  3  4 14 10 14 10 11 10  1  1  1  1 12  9  8 18\n",
      " 20 17  8  1  8  1  1  1  1]\n"
     ]
    }
   ],
   "source": [
    "scale = np.copy(dx)\n",
    "scale[np.where(dx<1)]= 1\n",
    "print(scale)\n",
    "\n",
    "import math\n",
    "scale_int = np.ones(scale.shape,dtype=int)\n",
    "for jj in range(33):\n",
    "  scale_int[jj] = math.ceil(scale[jj])\n",
    "print(scale_int)\n",
    "\n",
    "np.savez('state_scale.npz',scale=scale, scale_int=scale_int)"
   ]
  },
  {
   "cell_type": "code",
   "execution_count": 85,
   "metadata": {},
   "outputs": [
    {
     "name": "stdout",
     "output_type": "stream",
     "text": [
      "[ 4.02028084  4.00669241  4.00812006  1.          1.          1.\n",
      "  1.         10.91305065  2.05826783  3.44181371 13.84273243  9.51571655\n",
      " 13.86110687  9.92453194 10.01359653  9.82462692  1.          1.\n",
      "  1.          1.         11.61246014  8.71936607  7.06147718 17.99956512\n",
      " 19.19440842 16.99439049  8.          1.          8.          1.\n",
      "  1.          1.          1.        ]\n",
      "[ 5  5  5  1  1  1  1 11  3  4 14 10 14 10 11 10  1  1  1  1 12  9  8 18\n",
      " 20 17  8  1  8  1  1  1  1]\n"
     ]
    }
   ],
   "source": [
    "data = np.load('state_scale.npz')\n",
    "print(data['scale'])\n",
    "print(data['scale_int'])"
   ]
  },
  {
   "cell_type": "markdown",
   "metadata": {},
   "source": [
    "### 5. Explore\n",
    "\n",
    "In this exercise, we have provided a sample DDPG agent and demonstrated how to use it to solve an OpenAI Gym environment.  To continue your learning, you are encouraged to complete any (or all!) of the following tasks:\n",
    "- Amend the various hyperparameters and network architecture to see if you can get your agent to solve the environment faster than this benchmark implementation.  Once you build intuition for the hyperparameters that work well with this environment, try solving a different OpenAI Gym task!\n",
    "- Write your own DDPG implementation.  Use this code as reference only when needed -- try as much as you can to write your own algorithm from scratch.\n",
    "- You may also like to implement prioritized experience replay, to see if it speeds learning.  \n",
    "- The current implementation adds Ornsetein-Uhlenbeck noise to the action space.  However, it has [been shown](https://blog.openai.com/better-exploration-with-parameter-noise/) that adding noise to the parameters of the neural network policy can improve performance.  Make this change to the code, to verify it for yourself!\n",
    "- Write a blog post explaining the intuition behind the DDPG algorithm and demonstrating how to use it to solve an RL environment of your choosing.  "
   ]
  }
 ],
 "metadata": {
  "kernelspec": {
   "display_name": "drlnd",
   "language": "python",
   "name": "drlnd"
  },
  "language_info": {
   "codemirror_mode": {
    "name": "ipython",
    "version": 3
   },
   "file_extension": ".py",
   "mimetype": "text/x-python",
   "name": "python",
   "nbconvert_exporter": "python",
   "pygments_lexer": "ipython3",
   "version": "3.6.13"
  }
 },
 "nbformat": 4,
 "nbformat_minor": 2
}
